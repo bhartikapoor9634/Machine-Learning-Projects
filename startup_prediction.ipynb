{
  "cells": [
    {
      "cell_type": "markdown",
      "metadata": {
        "id": "view-in-github",
        "colab_type": "text"
      },
      "source": [
        "<a href=\"https://colab.research.google.com/github/bhartikapoor9634/Machine-Learning-Projects/blob/main/startup_prediction.ipynb\" target=\"_parent\"><img src=\"https://colab.research.google.com/assets/colab-badge.svg\" alt=\"Open In Colab\"/></a>"
      ]
    },
    {
      "cell_type": "code",
      "execution_count": null,
      "metadata": {
        "execution": {
          "iopub.execute_input": "2021-03-26T02:19:16.207460Z",
          "iopub.status.busy": "2021-03-26T02:19:16.206602Z",
          "iopub.status.idle": "2021-03-26T02:19:18.076537Z",
          "shell.execute_reply": "2021-03-26T02:19:18.075447Z"
        },
        "papermill": {
          "duration": 1.914984,
          "end_time": "2021-03-26T02:19:18.076807",
          "exception": false,
          "start_time": "2021-03-26T02:19:16.161823",
          "status": "completed"
        },
        "tags": [],
        "id": "GB1oR7_FzfIN"
      },
      "outputs": [],
      "source": [
        "import warnings\n",
        "warnings.filterwarnings('ignore')\n",
        "import numpy as np\n",
        "import pandas as pd\n",
        "import seaborn as sns\n",
        "import matplotlib.pyplot as plt\n",
        "from sklearn.preprocessing import MinMaxScaler\n",
        "from sklearn.model_selection import train_test_split \n",
        "from imblearn import under_sampling, over_sampling\n",
        "from sklearn.linear_model import LogisticRegression\n",
        "from sklearn.ensemble import AdaBoostClassifier\n",
        "from sklearn.metrics import classification_report, confusion_matrix\n",
        "from sklearn.metrics import accuracy_score\n",
        "from sklearn.metrics import roc_auc_score\n"
      ]
    },
    {
      "cell_type": "code",
      "execution_count": null,
      "metadata": {
        "execution": {
          "iopub.execute_input": "2021-03-26T02:19:18.154885Z",
          "iopub.status.busy": "2021-03-26T02:19:18.154117Z",
          "iopub.status.idle": "2021-03-26T02:19:18.248959Z",
          "shell.execute_reply": "2021-03-26T02:19:18.248254Z"
        },
        "papermill": {
          "duration": 0.134855,
          "end_time": "2021-03-26T02:19:18.249123",
          "exception": false,
          "start_time": "2021-03-26T02:19:18.114268",
          "status": "completed"
        },
        "tags": [],
        "colab": {
          "base_uri": "https://localhost:8080/",
          "height": 349
        },
        "id": "e3XxhveFzfIP",
        "outputId": "8bd9ad82-1430-4a4e-f7c1-901242055d42"
      },
      "outputs": [
        {
          "output_type": "execute_result",
          "data": {
            "text/plain": [
              "   Unnamed: 0 state_code   latitude   longitude zip_code       id  \\\n",
              "0        1005         CA  42.358880  -71.056820    92101   c:6669   \n",
              "1         204         CA  37.238916 -121.973718    95032  c:16283   \n",
              "2        1001         CA  32.901049 -117.192656    92121  c:65620   \n",
              "3         738         CA  37.320309 -122.050040    95014  c:42668   \n",
              "4        1002         CA  37.779281 -122.419236    94105  c:65806   \n",
              "\n",
              "            city              Unnamed: 6               name  labels  ...  \\\n",
              "0      San Diego                     NaN        Bandsintown       1  ...   \n",
              "1      Los Gatos                     NaN          TriCipher       1  ...   \n",
              "2      San Diego      San Diego CA 92121              Plixi       1  ...   \n",
              "3      Cupertino      Cupertino CA 95014  Solidcore Systems       1  ...   \n",
              "4  San Francisco  San Francisco CA 94105     Inhale Digital       0  ...   \n",
              "\n",
              "  object_id has_VC has_angel has_roundA  has_roundB  has_roundC  has_roundD  \\\n",
              "0    c:6669      0         1          0           0           0           0   \n",
              "1   c:16283      1         0          0           1           1           1   \n",
              "2   c:65620      0         0          1           0           0           0   \n",
              "3   c:42668      0         0          0           1           1           1   \n",
              "4   c:65806      1         1          0           0           0           0   \n",
              "\n",
              "   avg_participants  is_top500    status  \n",
              "0            1.0000          0  acquired  \n",
              "1            4.7500          1  acquired  \n",
              "2            4.0000          1  acquired  \n",
              "3            3.3333          1  acquired  \n",
              "4            1.0000          1    closed  \n",
              "\n",
              "[5 rows x 49 columns]"
            ],
            "text/html": [
              "\n",
              "  <div id=\"df-8fe025a6-16f5-458a-9b8d-cff409304053\">\n",
              "    <div class=\"colab-df-container\">\n",
              "      <div>\n",
              "<style scoped>\n",
              "    .dataframe tbody tr th:only-of-type {\n",
              "        vertical-align: middle;\n",
              "    }\n",
              "\n",
              "    .dataframe tbody tr th {\n",
              "        vertical-align: top;\n",
              "    }\n",
              "\n",
              "    .dataframe thead th {\n",
              "        text-align: right;\n",
              "    }\n",
              "</style>\n",
              "<table border=\"1\" class=\"dataframe\">\n",
              "  <thead>\n",
              "    <tr style=\"text-align: right;\">\n",
              "      <th></th>\n",
              "      <th>Unnamed: 0</th>\n",
              "      <th>state_code</th>\n",
              "      <th>latitude</th>\n",
              "      <th>longitude</th>\n",
              "      <th>zip_code</th>\n",
              "      <th>id</th>\n",
              "      <th>city</th>\n",
              "      <th>Unnamed: 6</th>\n",
              "      <th>name</th>\n",
              "      <th>labels</th>\n",
              "      <th>...</th>\n",
              "      <th>object_id</th>\n",
              "      <th>has_VC</th>\n",
              "      <th>has_angel</th>\n",
              "      <th>has_roundA</th>\n",
              "      <th>has_roundB</th>\n",
              "      <th>has_roundC</th>\n",
              "      <th>has_roundD</th>\n",
              "      <th>avg_participants</th>\n",
              "      <th>is_top500</th>\n",
              "      <th>status</th>\n",
              "    </tr>\n",
              "  </thead>\n",
              "  <tbody>\n",
              "    <tr>\n",
              "      <th>0</th>\n",
              "      <td>1005</td>\n",
              "      <td>CA</td>\n",
              "      <td>42.358880</td>\n",
              "      <td>-71.056820</td>\n",
              "      <td>92101</td>\n",
              "      <td>c:6669</td>\n",
              "      <td>San Diego</td>\n",
              "      <td>NaN</td>\n",
              "      <td>Bandsintown</td>\n",
              "      <td>1</td>\n",
              "      <td>...</td>\n",
              "      <td>c:6669</td>\n",
              "      <td>0</td>\n",
              "      <td>1</td>\n",
              "      <td>0</td>\n",
              "      <td>0</td>\n",
              "      <td>0</td>\n",
              "      <td>0</td>\n",
              "      <td>1.0000</td>\n",
              "      <td>0</td>\n",
              "      <td>acquired</td>\n",
              "    </tr>\n",
              "    <tr>\n",
              "      <th>1</th>\n",
              "      <td>204</td>\n",
              "      <td>CA</td>\n",
              "      <td>37.238916</td>\n",
              "      <td>-121.973718</td>\n",
              "      <td>95032</td>\n",
              "      <td>c:16283</td>\n",
              "      <td>Los Gatos</td>\n",
              "      <td>NaN</td>\n",
              "      <td>TriCipher</td>\n",
              "      <td>1</td>\n",
              "      <td>...</td>\n",
              "      <td>c:16283</td>\n",
              "      <td>1</td>\n",
              "      <td>0</td>\n",
              "      <td>0</td>\n",
              "      <td>1</td>\n",
              "      <td>1</td>\n",
              "      <td>1</td>\n",
              "      <td>4.7500</td>\n",
              "      <td>1</td>\n",
              "      <td>acquired</td>\n",
              "    </tr>\n",
              "    <tr>\n",
              "      <th>2</th>\n",
              "      <td>1001</td>\n",
              "      <td>CA</td>\n",
              "      <td>32.901049</td>\n",
              "      <td>-117.192656</td>\n",
              "      <td>92121</td>\n",
              "      <td>c:65620</td>\n",
              "      <td>San Diego</td>\n",
              "      <td>San Diego CA 92121</td>\n",
              "      <td>Plixi</td>\n",
              "      <td>1</td>\n",
              "      <td>...</td>\n",
              "      <td>c:65620</td>\n",
              "      <td>0</td>\n",
              "      <td>0</td>\n",
              "      <td>1</td>\n",
              "      <td>0</td>\n",
              "      <td>0</td>\n",
              "      <td>0</td>\n",
              "      <td>4.0000</td>\n",
              "      <td>1</td>\n",
              "      <td>acquired</td>\n",
              "    </tr>\n",
              "    <tr>\n",
              "      <th>3</th>\n",
              "      <td>738</td>\n",
              "      <td>CA</td>\n",
              "      <td>37.320309</td>\n",
              "      <td>-122.050040</td>\n",
              "      <td>95014</td>\n",
              "      <td>c:42668</td>\n",
              "      <td>Cupertino</td>\n",
              "      <td>Cupertino CA 95014</td>\n",
              "      <td>Solidcore Systems</td>\n",
              "      <td>1</td>\n",
              "      <td>...</td>\n",
              "      <td>c:42668</td>\n",
              "      <td>0</td>\n",
              "      <td>0</td>\n",
              "      <td>0</td>\n",
              "      <td>1</td>\n",
              "      <td>1</td>\n",
              "      <td>1</td>\n",
              "      <td>3.3333</td>\n",
              "      <td>1</td>\n",
              "      <td>acquired</td>\n",
              "    </tr>\n",
              "    <tr>\n",
              "      <th>4</th>\n",
              "      <td>1002</td>\n",
              "      <td>CA</td>\n",
              "      <td>37.779281</td>\n",
              "      <td>-122.419236</td>\n",
              "      <td>94105</td>\n",
              "      <td>c:65806</td>\n",
              "      <td>San Francisco</td>\n",
              "      <td>San Francisco CA 94105</td>\n",
              "      <td>Inhale Digital</td>\n",
              "      <td>0</td>\n",
              "      <td>...</td>\n",
              "      <td>c:65806</td>\n",
              "      <td>1</td>\n",
              "      <td>1</td>\n",
              "      <td>0</td>\n",
              "      <td>0</td>\n",
              "      <td>0</td>\n",
              "      <td>0</td>\n",
              "      <td>1.0000</td>\n",
              "      <td>1</td>\n",
              "      <td>closed</td>\n",
              "    </tr>\n",
              "  </tbody>\n",
              "</table>\n",
              "<p>5 rows × 49 columns</p>\n",
              "</div>\n",
              "      <button class=\"colab-df-convert\" onclick=\"convertToInteractive('df-8fe025a6-16f5-458a-9b8d-cff409304053')\"\n",
              "              title=\"Convert this dataframe to an interactive table.\"\n",
              "              style=\"display:none;\">\n",
              "        \n",
              "  <svg xmlns=\"http://www.w3.org/2000/svg\" height=\"24px\"viewBox=\"0 0 24 24\"\n",
              "       width=\"24px\">\n",
              "    <path d=\"M0 0h24v24H0V0z\" fill=\"none\"/>\n",
              "    <path d=\"M18.56 5.44l.94 2.06.94-2.06 2.06-.94-2.06-.94-.94-2.06-.94 2.06-2.06.94zm-11 1L8.5 8.5l.94-2.06 2.06-.94-2.06-.94L8.5 2.5l-.94 2.06-2.06.94zm10 10l.94 2.06.94-2.06 2.06-.94-2.06-.94-.94-2.06-.94 2.06-2.06.94z\"/><path d=\"M17.41 7.96l-1.37-1.37c-.4-.4-.92-.59-1.43-.59-.52 0-1.04.2-1.43.59L10.3 9.45l-7.72 7.72c-.78.78-.78 2.05 0 2.83L4 21.41c.39.39.9.59 1.41.59.51 0 1.02-.2 1.41-.59l7.78-7.78 2.81-2.81c.8-.78.8-2.07 0-2.86zM5.41 20L4 18.59l7.72-7.72 1.47 1.35L5.41 20z\"/>\n",
              "  </svg>\n",
              "      </button>\n",
              "      \n",
              "  <style>\n",
              "    .colab-df-container {\n",
              "      display:flex;\n",
              "      flex-wrap:wrap;\n",
              "      gap: 12px;\n",
              "    }\n",
              "\n",
              "    .colab-df-convert {\n",
              "      background-color: #E8F0FE;\n",
              "      border: none;\n",
              "      border-radius: 50%;\n",
              "      cursor: pointer;\n",
              "      display: none;\n",
              "      fill: #1967D2;\n",
              "      height: 32px;\n",
              "      padding: 0 0 0 0;\n",
              "      width: 32px;\n",
              "    }\n",
              "\n",
              "    .colab-df-convert:hover {\n",
              "      background-color: #E2EBFA;\n",
              "      box-shadow: 0px 1px 2px rgba(60, 64, 67, 0.3), 0px 1px 3px 1px rgba(60, 64, 67, 0.15);\n",
              "      fill: #174EA6;\n",
              "    }\n",
              "\n",
              "    [theme=dark] .colab-df-convert {\n",
              "      background-color: #3B4455;\n",
              "      fill: #D2E3FC;\n",
              "    }\n",
              "\n",
              "    [theme=dark] .colab-df-convert:hover {\n",
              "      background-color: #434B5C;\n",
              "      box-shadow: 0px 1px 3px 1px rgba(0, 0, 0, 0.15);\n",
              "      filter: drop-shadow(0px 1px 2px rgba(0, 0, 0, 0.3));\n",
              "      fill: #FFFFFF;\n",
              "    }\n",
              "  </style>\n",
              "\n",
              "      <script>\n",
              "        const buttonEl =\n",
              "          document.querySelector('#df-8fe025a6-16f5-458a-9b8d-cff409304053 button.colab-df-convert');\n",
              "        buttonEl.style.display =\n",
              "          google.colab.kernel.accessAllowed ? 'block' : 'none';\n",
              "\n",
              "        async function convertToInteractive(key) {\n",
              "          const element = document.querySelector('#df-8fe025a6-16f5-458a-9b8d-cff409304053');\n",
              "          const dataTable =\n",
              "            await google.colab.kernel.invokeFunction('convertToInteractive',\n",
              "                                                     [key], {});\n",
              "          if (!dataTable) return;\n",
              "\n",
              "          const docLinkHtml = 'Like what you see? Visit the ' +\n",
              "            '<a target=\"_blank\" href=https://colab.research.google.com/notebooks/data_table.ipynb>data table notebook</a>'\n",
              "            + ' to learn more about interactive tables.';\n",
              "          element.innerHTML = '';\n",
              "          dataTable['output_type'] = 'display_data';\n",
              "          await google.colab.output.renderOutput(dataTable, element);\n",
              "          const docLink = document.createElement('div');\n",
              "          docLink.innerHTML = docLinkHtml;\n",
              "          element.appendChild(docLink);\n",
              "        }\n",
              "      </script>\n",
              "    </div>\n",
              "  </div>\n",
              "  "
            ]
          },
          "metadata": {},
          "execution_count": 51
        }
      ],
      "source": [
        "data = pd.read_csv('startup data.csv')\n",
        "data.head()"
      ]
    },
    {
      "cell_type": "markdown",
      "metadata": {
        "papermill": {
          "duration": 0.046889,
          "end_time": "2021-03-26T02:19:18.331558",
          "exception": false,
          "start_time": "2021-03-26T02:19:18.284669",
          "status": "completed"
        },
        "tags": [],
        "id": "6JwTrMDDzfIQ"
      },
      "source": [
        "# **Check Dataset**"
      ]
    },
    {
      "cell_type": "code",
      "execution_count": null,
      "metadata": {
        "execution": {
          "iopub.execute_input": "2021-03-26T02:19:18.457426Z",
          "iopub.status.busy": "2021-03-26T02:19:18.456567Z",
          "iopub.status.idle": "2021-03-26T02:19:18.463809Z",
          "shell.execute_reply": "2021-03-26T02:19:18.464642Z"
        },
        "papermill": {
          "duration": 0.091736,
          "end_time": "2021-03-26T02:19:18.464937",
          "exception": false,
          "start_time": "2021-03-26T02:19:18.373201",
          "status": "completed"
        },
        "tags": [],
        "colab": {
          "base_uri": "https://localhost:8080/"
        },
        "id": "-Rk0AAaSzfIR",
        "outputId": "3fae9a20-e207-4491-ad58-c865686436a2"
      },
      "outputs": [
        {
          "output_type": "stream",
          "name": "stdout",
          "text": [
            "<class 'pandas.core.frame.DataFrame'>\n",
            "RangeIndex: 923 entries, 0 to 922\n",
            "Data columns (total 49 columns):\n",
            " #   Column                    Non-Null Count  Dtype  \n",
            "---  ------                    --------------  -----  \n",
            " 0   Unnamed: 0                923 non-null    int64  \n",
            " 1   state_code                923 non-null    object \n",
            " 2   latitude                  923 non-null    float64\n",
            " 3   longitude                 923 non-null    float64\n",
            " 4   zip_code                  923 non-null    object \n",
            " 5   id                        923 non-null    object \n",
            " 6   city                      923 non-null    object \n",
            " 7   Unnamed: 6                430 non-null    object \n",
            " 8   name                      923 non-null    object \n",
            " 9   labels                    923 non-null    int64  \n",
            " 10  founded_at                923 non-null    object \n",
            " 11  closed_at                 335 non-null    object \n",
            " 12  first_funding_at          923 non-null    object \n",
            " 13  last_funding_at           923 non-null    object \n",
            " 14  age_first_funding_year    923 non-null    float64\n",
            " 15  age_last_funding_year     923 non-null    float64\n",
            " 16  age_first_milestone_year  771 non-null    float64\n",
            " 17  age_last_milestone_year   771 non-null    float64\n",
            " 18  relationships             923 non-null    int64  \n",
            " 19  funding_rounds            923 non-null    int64  \n",
            " 20  funding_total_usd         923 non-null    int64  \n",
            " 21  milestones                923 non-null    int64  \n",
            " 22  state_code.1              922 non-null    object \n",
            " 23  is_CA                     923 non-null    int64  \n",
            " 24  is_NY                     923 non-null    int64  \n",
            " 25  is_MA                     923 non-null    int64  \n",
            " 26  is_TX                     923 non-null    int64  \n",
            " 27  is_otherstate             923 non-null    int64  \n",
            " 28  category_code             923 non-null    object \n",
            " 29  is_software               923 non-null    int64  \n",
            " 30  is_web                    923 non-null    int64  \n",
            " 31  is_mobile                 923 non-null    int64  \n",
            " 32  is_enterprise             923 non-null    int64  \n",
            " 33  is_advertising            923 non-null    int64  \n",
            " 34  is_gamesvideo             923 non-null    int64  \n",
            " 35  is_ecommerce              923 non-null    int64  \n",
            " 36  is_biotech                923 non-null    int64  \n",
            " 37  is_consulting             923 non-null    int64  \n",
            " 38  is_othercategory          923 non-null    int64  \n",
            " 39  object_id                 923 non-null    object \n",
            " 40  has_VC                    923 non-null    int64  \n",
            " 41  has_angel                 923 non-null    int64  \n",
            " 42  has_roundA                923 non-null    int64  \n",
            " 43  has_roundB                923 non-null    int64  \n",
            " 44  has_roundC                923 non-null    int64  \n",
            " 45  has_roundD                923 non-null    int64  \n",
            " 46  avg_participants          923 non-null    float64\n",
            " 47  is_top500                 923 non-null    int64  \n",
            " 48  status                    923 non-null    object \n",
            "dtypes: float64(7), int64(28), object(14)\n",
            "memory usage: 353.5+ KB\n"
          ]
        }
      ],
      "source": [
        "data.info()"
      ]
    },
    {
      "cell_type": "code",
      "execution_count": null,
      "metadata": {
        "execution": {
          "iopub.execute_input": "2021-03-26T02:19:18.547307Z",
          "iopub.status.busy": "2021-03-26T02:19:18.546517Z",
          "iopub.status.idle": "2021-03-26T02:19:18.641868Z",
          "shell.execute_reply": "2021-03-26T02:19:18.641216Z"
        },
        "papermill": {
          "duration": 0.140178,
          "end_time": "2021-03-26T02:19:18.642076",
          "exception": false,
          "start_time": "2021-03-26T02:19:18.501898",
          "status": "completed"
        },
        "tags": [],
        "colab": {
          "base_uri": "https://localhost:8080/",
          "height": 394
        },
        "id": "PtMrtp9KzfIS",
        "outputId": "02057a34-6a84-4ba4-fd54-eedf7d85235c"
      },
      "outputs": [
        {
          "output_type": "execute_result",
          "data": {
            "text/plain": [
              "        Unnamed: 0    latitude   longitude      labels  \\\n",
              "count   923.000000  923.000000  923.000000  923.000000   \n",
              "mean    572.297941   38.517442 -103.539212    0.646804   \n",
              "std     333.585431    3.741497   22.394167    0.478222   \n",
              "min       1.000000   25.752358 -122.756956    0.000000   \n",
              "25%     283.500000   37.388869 -122.198732    0.000000   \n",
              "50%     577.000000   37.779281 -118.374037    1.000000   \n",
              "75%     866.500000   40.730646  -77.214731    1.000000   \n",
              "max    1153.000000   59.335232   18.057121    1.000000   \n",
              "\n",
              "       age_first_funding_year  age_last_funding_year  \\\n",
              "count              923.000000             923.000000   \n",
              "mean                 2.235630               3.931456   \n",
              "std                  2.510449               2.967910   \n",
              "min                 -9.046600              -9.046600   \n",
              "25%                  0.576700               1.669850   \n",
              "50%                  1.446600               3.528800   \n",
              "75%                  3.575350               5.560250   \n",
              "max                 21.895900              21.895900   \n",
              "\n",
              "       age_first_milestone_year  age_last_milestone_year  relationships  \\\n",
              "count                771.000000               771.000000     923.000000   \n",
              "mean                   3.055353                 4.754423       7.710726   \n",
              "std                    2.977057                 3.212107       7.265776   \n",
              "min                  -14.169900                -7.005500       0.000000   \n",
              "25%                    1.000000                 2.411000       3.000000   \n",
              "50%                    2.520500                 4.476700       5.000000   \n",
              "75%                    4.686300                 6.753400      10.000000   \n",
              "max                   24.684900                24.684900      63.000000   \n",
              "\n",
              "       funding_rounds  ...  is_consulting  is_othercategory      has_VC  \\\n",
              "count      923.000000  ...     923.000000        923.000000  923.000000   \n",
              "mean         2.310943  ...       0.003250          0.322860    0.326111   \n",
              "std          1.390922  ...       0.056949          0.467823    0.469042   \n",
              "min          1.000000  ...       0.000000          0.000000    0.000000   \n",
              "25%          1.000000  ...       0.000000          0.000000    0.000000   \n",
              "50%          2.000000  ...       0.000000          0.000000    0.000000   \n",
              "75%          3.000000  ...       0.000000          1.000000    1.000000   \n",
              "max         10.000000  ...       1.000000          1.000000    1.000000   \n",
              "\n",
              "        has_angel  has_roundA  has_roundB  has_roundC  has_roundD  \\\n",
              "count  923.000000  923.000000  923.000000  923.000000  923.000000   \n",
              "mean     0.254605    0.508126    0.392199    0.232936    0.099675   \n",
              "std      0.435875    0.500205    0.488505    0.422931    0.299729   \n",
              "min      0.000000    0.000000    0.000000    0.000000    0.000000   \n",
              "25%      0.000000    0.000000    0.000000    0.000000    0.000000   \n",
              "50%      0.000000    1.000000    0.000000    0.000000    0.000000   \n",
              "75%      1.000000    1.000000    1.000000    0.000000    0.000000   \n",
              "max      1.000000    1.000000    1.000000    1.000000    1.000000   \n",
              "\n",
              "       avg_participants   is_top500  \n",
              "count        923.000000  923.000000  \n",
              "mean           2.838586    0.809317  \n",
              "std            1.874601    0.393052  \n",
              "min            1.000000    0.000000  \n",
              "25%            1.500000    1.000000  \n",
              "50%            2.500000    1.000000  \n",
              "75%            3.800000    1.000000  \n",
              "max           16.000000    1.000000  \n",
              "\n",
              "[8 rows x 35 columns]"
            ],
            "text/html": [
              "\n",
              "  <div id=\"df-0e3e7e40-e269-4682-8fba-211979e78d3a\">\n",
              "    <div class=\"colab-df-container\">\n",
              "      <div>\n",
              "<style scoped>\n",
              "    .dataframe tbody tr th:only-of-type {\n",
              "        vertical-align: middle;\n",
              "    }\n",
              "\n",
              "    .dataframe tbody tr th {\n",
              "        vertical-align: top;\n",
              "    }\n",
              "\n",
              "    .dataframe thead th {\n",
              "        text-align: right;\n",
              "    }\n",
              "</style>\n",
              "<table border=\"1\" class=\"dataframe\">\n",
              "  <thead>\n",
              "    <tr style=\"text-align: right;\">\n",
              "      <th></th>\n",
              "      <th>Unnamed: 0</th>\n",
              "      <th>latitude</th>\n",
              "      <th>longitude</th>\n",
              "      <th>labels</th>\n",
              "      <th>age_first_funding_year</th>\n",
              "      <th>age_last_funding_year</th>\n",
              "      <th>age_first_milestone_year</th>\n",
              "      <th>age_last_milestone_year</th>\n",
              "      <th>relationships</th>\n",
              "      <th>funding_rounds</th>\n",
              "      <th>...</th>\n",
              "      <th>is_consulting</th>\n",
              "      <th>is_othercategory</th>\n",
              "      <th>has_VC</th>\n",
              "      <th>has_angel</th>\n",
              "      <th>has_roundA</th>\n",
              "      <th>has_roundB</th>\n",
              "      <th>has_roundC</th>\n",
              "      <th>has_roundD</th>\n",
              "      <th>avg_participants</th>\n",
              "      <th>is_top500</th>\n",
              "    </tr>\n",
              "  </thead>\n",
              "  <tbody>\n",
              "    <tr>\n",
              "      <th>count</th>\n",
              "      <td>923.000000</td>\n",
              "      <td>923.000000</td>\n",
              "      <td>923.000000</td>\n",
              "      <td>923.000000</td>\n",
              "      <td>923.000000</td>\n",
              "      <td>923.000000</td>\n",
              "      <td>771.000000</td>\n",
              "      <td>771.000000</td>\n",
              "      <td>923.000000</td>\n",
              "      <td>923.000000</td>\n",
              "      <td>...</td>\n",
              "      <td>923.000000</td>\n",
              "      <td>923.000000</td>\n",
              "      <td>923.000000</td>\n",
              "      <td>923.000000</td>\n",
              "      <td>923.000000</td>\n",
              "      <td>923.000000</td>\n",
              "      <td>923.000000</td>\n",
              "      <td>923.000000</td>\n",
              "      <td>923.000000</td>\n",
              "      <td>923.000000</td>\n",
              "    </tr>\n",
              "    <tr>\n",
              "      <th>mean</th>\n",
              "      <td>572.297941</td>\n",
              "      <td>38.517442</td>\n",
              "      <td>-103.539212</td>\n",
              "      <td>0.646804</td>\n",
              "      <td>2.235630</td>\n",
              "      <td>3.931456</td>\n",
              "      <td>3.055353</td>\n",
              "      <td>4.754423</td>\n",
              "      <td>7.710726</td>\n",
              "      <td>2.310943</td>\n",
              "      <td>...</td>\n",
              "      <td>0.003250</td>\n",
              "      <td>0.322860</td>\n",
              "      <td>0.326111</td>\n",
              "      <td>0.254605</td>\n",
              "      <td>0.508126</td>\n",
              "      <td>0.392199</td>\n",
              "      <td>0.232936</td>\n",
              "      <td>0.099675</td>\n",
              "      <td>2.838586</td>\n",
              "      <td>0.809317</td>\n",
              "    </tr>\n",
              "    <tr>\n",
              "      <th>std</th>\n",
              "      <td>333.585431</td>\n",
              "      <td>3.741497</td>\n",
              "      <td>22.394167</td>\n",
              "      <td>0.478222</td>\n",
              "      <td>2.510449</td>\n",
              "      <td>2.967910</td>\n",
              "      <td>2.977057</td>\n",
              "      <td>3.212107</td>\n",
              "      <td>7.265776</td>\n",
              "      <td>1.390922</td>\n",
              "      <td>...</td>\n",
              "      <td>0.056949</td>\n",
              "      <td>0.467823</td>\n",
              "      <td>0.469042</td>\n",
              "      <td>0.435875</td>\n",
              "      <td>0.500205</td>\n",
              "      <td>0.488505</td>\n",
              "      <td>0.422931</td>\n",
              "      <td>0.299729</td>\n",
              "      <td>1.874601</td>\n",
              "      <td>0.393052</td>\n",
              "    </tr>\n",
              "    <tr>\n",
              "      <th>min</th>\n",
              "      <td>1.000000</td>\n",
              "      <td>25.752358</td>\n",
              "      <td>-122.756956</td>\n",
              "      <td>0.000000</td>\n",
              "      <td>-9.046600</td>\n",
              "      <td>-9.046600</td>\n",
              "      <td>-14.169900</td>\n",
              "      <td>-7.005500</td>\n",
              "      <td>0.000000</td>\n",
              "      <td>1.000000</td>\n",
              "      <td>...</td>\n",
              "      <td>0.000000</td>\n",
              "      <td>0.000000</td>\n",
              "      <td>0.000000</td>\n",
              "      <td>0.000000</td>\n",
              "      <td>0.000000</td>\n",
              "      <td>0.000000</td>\n",
              "      <td>0.000000</td>\n",
              "      <td>0.000000</td>\n",
              "      <td>1.000000</td>\n",
              "      <td>0.000000</td>\n",
              "    </tr>\n",
              "    <tr>\n",
              "      <th>25%</th>\n",
              "      <td>283.500000</td>\n",
              "      <td>37.388869</td>\n",
              "      <td>-122.198732</td>\n",
              "      <td>0.000000</td>\n",
              "      <td>0.576700</td>\n",
              "      <td>1.669850</td>\n",
              "      <td>1.000000</td>\n",
              "      <td>2.411000</td>\n",
              "      <td>3.000000</td>\n",
              "      <td>1.000000</td>\n",
              "      <td>...</td>\n",
              "      <td>0.000000</td>\n",
              "      <td>0.000000</td>\n",
              "      <td>0.000000</td>\n",
              "      <td>0.000000</td>\n",
              "      <td>0.000000</td>\n",
              "      <td>0.000000</td>\n",
              "      <td>0.000000</td>\n",
              "      <td>0.000000</td>\n",
              "      <td>1.500000</td>\n",
              "      <td>1.000000</td>\n",
              "    </tr>\n",
              "    <tr>\n",
              "      <th>50%</th>\n",
              "      <td>577.000000</td>\n",
              "      <td>37.779281</td>\n",
              "      <td>-118.374037</td>\n",
              "      <td>1.000000</td>\n",
              "      <td>1.446600</td>\n",
              "      <td>3.528800</td>\n",
              "      <td>2.520500</td>\n",
              "      <td>4.476700</td>\n",
              "      <td>5.000000</td>\n",
              "      <td>2.000000</td>\n",
              "      <td>...</td>\n",
              "      <td>0.000000</td>\n",
              "      <td>0.000000</td>\n",
              "      <td>0.000000</td>\n",
              "      <td>0.000000</td>\n",
              "      <td>1.000000</td>\n",
              "      <td>0.000000</td>\n",
              "      <td>0.000000</td>\n",
              "      <td>0.000000</td>\n",
              "      <td>2.500000</td>\n",
              "      <td>1.000000</td>\n",
              "    </tr>\n",
              "    <tr>\n",
              "      <th>75%</th>\n",
              "      <td>866.500000</td>\n",
              "      <td>40.730646</td>\n",
              "      <td>-77.214731</td>\n",
              "      <td>1.000000</td>\n",
              "      <td>3.575350</td>\n",
              "      <td>5.560250</td>\n",
              "      <td>4.686300</td>\n",
              "      <td>6.753400</td>\n",
              "      <td>10.000000</td>\n",
              "      <td>3.000000</td>\n",
              "      <td>...</td>\n",
              "      <td>0.000000</td>\n",
              "      <td>1.000000</td>\n",
              "      <td>1.000000</td>\n",
              "      <td>1.000000</td>\n",
              "      <td>1.000000</td>\n",
              "      <td>1.000000</td>\n",
              "      <td>0.000000</td>\n",
              "      <td>0.000000</td>\n",
              "      <td>3.800000</td>\n",
              "      <td>1.000000</td>\n",
              "    </tr>\n",
              "    <tr>\n",
              "      <th>max</th>\n",
              "      <td>1153.000000</td>\n",
              "      <td>59.335232</td>\n",
              "      <td>18.057121</td>\n",
              "      <td>1.000000</td>\n",
              "      <td>21.895900</td>\n",
              "      <td>21.895900</td>\n",
              "      <td>24.684900</td>\n",
              "      <td>24.684900</td>\n",
              "      <td>63.000000</td>\n",
              "      <td>10.000000</td>\n",
              "      <td>...</td>\n",
              "      <td>1.000000</td>\n",
              "      <td>1.000000</td>\n",
              "      <td>1.000000</td>\n",
              "      <td>1.000000</td>\n",
              "      <td>1.000000</td>\n",
              "      <td>1.000000</td>\n",
              "      <td>1.000000</td>\n",
              "      <td>1.000000</td>\n",
              "      <td>16.000000</td>\n",
              "      <td>1.000000</td>\n",
              "    </tr>\n",
              "  </tbody>\n",
              "</table>\n",
              "<p>8 rows × 35 columns</p>\n",
              "</div>\n",
              "      <button class=\"colab-df-convert\" onclick=\"convertToInteractive('df-0e3e7e40-e269-4682-8fba-211979e78d3a')\"\n",
              "              title=\"Convert this dataframe to an interactive table.\"\n",
              "              style=\"display:none;\">\n",
              "        \n",
              "  <svg xmlns=\"http://www.w3.org/2000/svg\" height=\"24px\"viewBox=\"0 0 24 24\"\n",
              "       width=\"24px\">\n",
              "    <path d=\"M0 0h24v24H0V0z\" fill=\"none\"/>\n",
              "    <path d=\"M18.56 5.44l.94 2.06.94-2.06 2.06-.94-2.06-.94-.94-2.06-.94 2.06-2.06.94zm-11 1L8.5 8.5l.94-2.06 2.06-.94-2.06-.94L8.5 2.5l-.94 2.06-2.06.94zm10 10l.94 2.06.94-2.06 2.06-.94-2.06-.94-.94-2.06-.94 2.06-2.06.94z\"/><path d=\"M17.41 7.96l-1.37-1.37c-.4-.4-.92-.59-1.43-.59-.52 0-1.04.2-1.43.59L10.3 9.45l-7.72 7.72c-.78.78-.78 2.05 0 2.83L4 21.41c.39.39.9.59 1.41.59.51 0 1.02-.2 1.41-.59l7.78-7.78 2.81-2.81c.8-.78.8-2.07 0-2.86zM5.41 20L4 18.59l7.72-7.72 1.47 1.35L5.41 20z\"/>\n",
              "  </svg>\n",
              "      </button>\n",
              "      \n",
              "  <style>\n",
              "    .colab-df-container {\n",
              "      display:flex;\n",
              "      flex-wrap:wrap;\n",
              "      gap: 12px;\n",
              "    }\n",
              "\n",
              "    .colab-df-convert {\n",
              "      background-color: #E8F0FE;\n",
              "      border: none;\n",
              "      border-radius: 50%;\n",
              "      cursor: pointer;\n",
              "      display: none;\n",
              "      fill: #1967D2;\n",
              "      height: 32px;\n",
              "      padding: 0 0 0 0;\n",
              "      width: 32px;\n",
              "    }\n",
              "\n",
              "    .colab-df-convert:hover {\n",
              "      background-color: #E2EBFA;\n",
              "      box-shadow: 0px 1px 2px rgba(60, 64, 67, 0.3), 0px 1px 3px 1px rgba(60, 64, 67, 0.15);\n",
              "      fill: #174EA6;\n",
              "    }\n",
              "\n",
              "    [theme=dark] .colab-df-convert {\n",
              "      background-color: #3B4455;\n",
              "      fill: #D2E3FC;\n",
              "    }\n",
              "\n",
              "    [theme=dark] .colab-df-convert:hover {\n",
              "      background-color: #434B5C;\n",
              "      box-shadow: 0px 1px 3px 1px rgba(0, 0, 0, 0.15);\n",
              "      filter: drop-shadow(0px 1px 2px rgba(0, 0, 0, 0.3));\n",
              "      fill: #FFFFFF;\n",
              "    }\n",
              "  </style>\n",
              "\n",
              "      <script>\n",
              "        const buttonEl =\n",
              "          document.querySelector('#df-0e3e7e40-e269-4682-8fba-211979e78d3a button.colab-df-convert');\n",
              "        buttonEl.style.display =\n",
              "          google.colab.kernel.accessAllowed ? 'block' : 'none';\n",
              "\n",
              "        async function convertToInteractive(key) {\n",
              "          const element = document.querySelector('#df-0e3e7e40-e269-4682-8fba-211979e78d3a');\n",
              "          const dataTable =\n",
              "            await google.colab.kernel.invokeFunction('convertToInteractive',\n",
              "                                                     [key], {});\n",
              "          if (!dataTable) return;\n",
              "\n",
              "          const docLinkHtml = 'Like what you see? Visit the ' +\n",
              "            '<a target=\"_blank\" href=https://colab.research.google.com/notebooks/data_table.ipynb>data table notebook</a>'\n",
              "            + ' to learn more about interactive tables.';\n",
              "          element.innerHTML = '';\n",
              "          dataTable['output_type'] = 'display_data';\n",
              "          await google.colab.output.renderOutput(dataTable, element);\n",
              "          const docLink = document.createElement('div');\n",
              "          docLink.innerHTML = docLinkHtml;\n",
              "          element.appendChild(docLink);\n",
              "        }\n",
              "      </script>\n",
              "    </div>\n",
              "  </div>\n",
              "  "
            ]
          },
          "metadata": {},
          "execution_count": 53
        }
      ],
      "source": [
        "data.describe()"
      ]
    },
    {
      "cell_type": "markdown",
      "metadata": {
        "papermill": {
          "duration": 0.036484,
          "end_time": "2021-03-26T02:19:18.714864",
          "exception": false,
          "start_time": "2021-03-26T02:19:18.678380",
          "status": "completed"
        },
        "tags": [],
        "id": "IUbfDA4kzfIS"
      },
      "source": [
        "# **Data Preprocessing**"
      ]
    },
    {
      "cell_type": "markdown",
      "metadata": {
        "papermill": {
          "duration": 0.03521,
          "end_time": "2021-03-26T02:19:18.785547",
          "exception": false,
          "start_time": "2021-03-26T02:19:18.750337",
          "status": "completed"
        },
        "tags": [],
        "id": "iPcsyg58zfIT"
      },
      "source": [
        "**Check for missing values and duplicated data**"
      ]
    },
    {
      "cell_type": "code",
      "execution_count": null,
      "metadata": {
        "execution": {
          "iopub.execute_input": "2021-03-26T02:19:18.869285Z",
          "iopub.status.busy": "2021-03-26T02:19:18.868394Z",
          "iopub.status.idle": "2021-03-26T02:19:18.874347Z",
          "shell.execute_reply": "2021-03-26T02:19:18.873687Z"
        },
        "papermill": {
          "duration": 0.053572,
          "end_time": "2021-03-26T02:19:18.874511",
          "exception": false,
          "start_time": "2021-03-26T02:19:18.820939",
          "status": "completed"
        },
        "tags": [],
        "colab": {
          "base_uri": "https://localhost:8080/"
        },
        "id": "LkPthhYgzfIT",
        "outputId": "4defdba9-0ad9-4161-b146-193f715df383"
      },
      "outputs": [
        {
          "output_type": "execute_result",
          "data": {
            "text/plain": [
              "Unnamed: 0                    0\n",
              "state_code                    0\n",
              "latitude                      0\n",
              "longitude                     0\n",
              "zip_code                      0\n",
              "id                            0\n",
              "city                          0\n",
              "Unnamed: 6                  493\n",
              "name                          0\n",
              "labels                        0\n",
              "founded_at                    0\n",
              "closed_at                   588\n",
              "first_funding_at              0\n",
              "last_funding_at               0\n",
              "age_first_funding_year        0\n",
              "age_last_funding_year         0\n",
              "age_first_milestone_year    152\n",
              "age_last_milestone_year     152\n",
              "relationships                 0\n",
              "funding_rounds                0\n",
              "funding_total_usd             0\n",
              "milestones                    0\n",
              "state_code.1                  1\n",
              "is_CA                         0\n",
              "is_NY                         0\n",
              "is_MA                         0\n",
              "is_TX                         0\n",
              "is_otherstate                 0\n",
              "category_code                 0\n",
              "is_software                   0\n",
              "is_web                        0\n",
              "is_mobile                     0\n",
              "is_enterprise                 0\n",
              "is_advertising                0\n",
              "is_gamesvideo                 0\n",
              "is_ecommerce                  0\n",
              "is_biotech                    0\n",
              "is_consulting                 0\n",
              "is_othercategory              0\n",
              "object_id                     0\n",
              "has_VC                        0\n",
              "has_angel                     0\n",
              "has_roundA                    0\n",
              "has_roundB                    0\n",
              "has_roundC                    0\n",
              "has_roundD                    0\n",
              "avg_participants              0\n",
              "is_top500                     0\n",
              "status                        0\n",
              "dtype: int64"
            ]
          },
          "metadata": {},
          "execution_count": 54
        }
      ],
      "source": [
        "data.isnull().sum()"
      ]
    },
    {
      "cell_type": "code",
      "execution_count": null,
      "metadata": {
        "execution": {
          "iopub.execute_input": "2021-03-26T02:19:18.960330Z",
          "iopub.status.busy": "2021-03-26T02:19:18.959063Z",
          "iopub.status.idle": "2021-03-26T02:19:18.992671Z",
          "shell.execute_reply": "2021-03-26T02:19:18.991027Z"
        },
        "papermill": {
          "duration": 0.081307,
          "end_time": "2021-03-26T02:19:18.992834",
          "exception": false,
          "start_time": "2021-03-26T02:19:18.911527",
          "status": "completed"
        },
        "tags": [],
        "colab": {
          "base_uri": "https://localhost:8080/",
          "height": 206
        },
        "id": "vPBtjKmZzfIU",
        "outputId": "02abe440-90b4-412a-940f-4f64799bdbd5"
      },
      "outputs": [
        {
          "output_type": "execute_result",
          "data": {
            "text/plain": [
              "                    feature  missing_value  percentage\n",
              "0                 closed_at            588       63.71\n",
              "1                Unnamed: 6            493       53.41\n",
              "2   age_last_milestone_year            152       16.47\n",
              "3  age_first_milestone_year            152       16.47\n",
              "4              state_code.1              1        0.11"
            ],
            "text/html": [
              "\n",
              "  <div id=\"df-a5bd0f49-9866-4e56-87cd-60bbb7a5114e\">\n",
              "    <div class=\"colab-df-container\">\n",
              "      <div>\n",
              "<style scoped>\n",
              "    .dataframe tbody tr th:only-of-type {\n",
              "        vertical-align: middle;\n",
              "    }\n",
              "\n",
              "    .dataframe tbody tr th {\n",
              "        vertical-align: top;\n",
              "    }\n",
              "\n",
              "    .dataframe thead th {\n",
              "        text-align: right;\n",
              "    }\n",
              "</style>\n",
              "<table border=\"1\" class=\"dataframe\">\n",
              "  <thead>\n",
              "    <tr style=\"text-align: right;\">\n",
              "      <th></th>\n",
              "      <th>feature</th>\n",
              "      <th>missing_value</th>\n",
              "      <th>percentage</th>\n",
              "    </tr>\n",
              "  </thead>\n",
              "  <tbody>\n",
              "    <tr>\n",
              "      <th>0</th>\n",
              "      <td>closed_at</td>\n",
              "      <td>588</td>\n",
              "      <td>63.71</td>\n",
              "    </tr>\n",
              "    <tr>\n",
              "      <th>1</th>\n",
              "      <td>Unnamed: 6</td>\n",
              "      <td>493</td>\n",
              "      <td>53.41</td>\n",
              "    </tr>\n",
              "    <tr>\n",
              "      <th>2</th>\n",
              "      <td>age_last_milestone_year</td>\n",
              "      <td>152</td>\n",
              "      <td>16.47</td>\n",
              "    </tr>\n",
              "    <tr>\n",
              "      <th>3</th>\n",
              "      <td>age_first_milestone_year</td>\n",
              "      <td>152</td>\n",
              "      <td>16.47</td>\n",
              "    </tr>\n",
              "    <tr>\n",
              "      <th>4</th>\n",
              "      <td>state_code.1</td>\n",
              "      <td>1</td>\n",
              "      <td>0.11</td>\n",
              "    </tr>\n",
              "  </tbody>\n",
              "</table>\n",
              "</div>\n",
              "      <button class=\"colab-df-convert\" onclick=\"convertToInteractive('df-a5bd0f49-9866-4e56-87cd-60bbb7a5114e')\"\n",
              "              title=\"Convert this dataframe to an interactive table.\"\n",
              "              style=\"display:none;\">\n",
              "        \n",
              "  <svg xmlns=\"http://www.w3.org/2000/svg\" height=\"24px\"viewBox=\"0 0 24 24\"\n",
              "       width=\"24px\">\n",
              "    <path d=\"M0 0h24v24H0V0z\" fill=\"none\"/>\n",
              "    <path d=\"M18.56 5.44l.94 2.06.94-2.06 2.06-.94-2.06-.94-.94-2.06-.94 2.06-2.06.94zm-11 1L8.5 8.5l.94-2.06 2.06-.94-2.06-.94L8.5 2.5l-.94 2.06-2.06.94zm10 10l.94 2.06.94-2.06 2.06-.94-2.06-.94-.94-2.06-.94 2.06-2.06.94z\"/><path d=\"M17.41 7.96l-1.37-1.37c-.4-.4-.92-.59-1.43-.59-.52 0-1.04.2-1.43.59L10.3 9.45l-7.72 7.72c-.78.78-.78 2.05 0 2.83L4 21.41c.39.39.9.59 1.41.59.51 0 1.02-.2 1.41-.59l7.78-7.78 2.81-2.81c.8-.78.8-2.07 0-2.86zM5.41 20L4 18.59l7.72-7.72 1.47 1.35L5.41 20z\"/>\n",
              "  </svg>\n",
              "      </button>\n",
              "      \n",
              "  <style>\n",
              "    .colab-df-container {\n",
              "      display:flex;\n",
              "      flex-wrap:wrap;\n",
              "      gap: 12px;\n",
              "    }\n",
              "\n",
              "    .colab-df-convert {\n",
              "      background-color: #E8F0FE;\n",
              "      border: none;\n",
              "      border-radius: 50%;\n",
              "      cursor: pointer;\n",
              "      display: none;\n",
              "      fill: #1967D2;\n",
              "      height: 32px;\n",
              "      padding: 0 0 0 0;\n",
              "      width: 32px;\n",
              "    }\n",
              "\n",
              "    .colab-df-convert:hover {\n",
              "      background-color: #E2EBFA;\n",
              "      box-shadow: 0px 1px 2px rgba(60, 64, 67, 0.3), 0px 1px 3px 1px rgba(60, 64, 67, 0.15);\n",
              "      fill: #174EA6;\n",
              "    }\n",
              "\n",
              "    [theme=dark] .colab-df-convert {\n",
              "      background-color: #3B4455;\n",
              "      fill: #D2E3FC;\n",
              "    }\n",
              "\n",
              "    [theme=dark] .colab-df-convert:hover {\n",
              "      background-color: #434B5C;\n",
              "      box-shadow: 0px 1px 3px 1px rgba(0, 0, 0, 0.15);\n",
              "      filter: drop-shadow(0px 1px 2px rgba(0, 0, 0, 0.3));\n",
              "      fill: #FFFFFF;\n",
              "    }\n",
              "  </style>\n",
              "\n",
              "      <script>\n",
              "        const buttonEl =\n",
              "          document.querySelector('#df-a5bd0f49-9866-4e56-87cd-60bbb7a5114e button.colab-df-convert');\n",
              "        buttonEl.style.display =\n",
              "          google.colab.kernel.accessAllowed ? 'block' : 'none';\n",
              "\n",
              "        async function convertToInteractive(key) {\n",
              "          const element = document.querySelector('#df-a5bd0f49-9866-4e56-87cd-60bbb7a5114e');\n",
              "          const dataTable =\n",
              "            await google.colab.kernel.invokeFunction('convertToInteractive',\n",
              "                                                     [key], {});\n",
              "          if (!dataTable) return;\n",
              "\n",
              "          const docLinkHtml = 'Like what you see? Visit the ' +\n",
              "            '<a target=\"_blank\" href=https://colab.research.google.com/notebooks/data_table.ipynb>data table notebook</a>'\n",
              "            + ' to learn more about interactive tables.';\n",
              "          element.innerHTML = '';\n",
              "          dataTable['output_type'] = 'display_data';\n",
              "          await google.colab.output.renderOutput(dataTable, element);\n",
              "          const docLink = document.createElement('div');\n",
              "          docLink.innerHTML = docLinkHtml;\n",
              "          element.appendChild(docLink);\n",
              "        }\n",
              "      </script>\n",
              "    </div>\n",
              "  </div>\n",
              "  "
            ]
          },
          "metadata": {},
          "execution_count": 55
        }
      ],
      "source": [
        "data_missing_value = data.isnull().sum().reset_index()\n",
        "data_missing_value.columns = ['feature','missing_value']\n",
        "data_missing_value['percentage'] = round((data_missing_value['missing_value']/len(data))*100,2)\n",
        "data_missing_value = data_missing_value.sort_values('percentage', ascending=False).reset_index(drop=True)\n",
        "data_missing_value = data_missing_value[data_missing_value['percentage']>0]\n",
        "data_missing_value"
      ]
    },
    {
      "cell_type": "markdown",
      "metadata": {
        "papermill": {
          "duration": 0.036487,
          "end_time": "2021-03-26T02:19:19.065952",
          "exception": false,
          "start_time": "2021-03-26T02:19:19.029465",
          "status": "completed"
        },
        "tags": [],
        "id": "zoBaX1CDzfIV"
      },
      "source": [
        "There are 5 missing value in this dataset, namely 'closed_at', 'Unnamed:6', 'age_last_milestone_year', 'age_first_milestone_year', and 'state_code.1'\n",
        "\n",
        "First, drop column Unnamed:6 and state_code.1 because this is useless features"
      ]
    },
    {
      "cell_type": "code",
      "execution_count": null,
      "metadata": {
        "execution": {
          "iopub.execute_input": "2021-03-26T02:19:19.151019Z",
          "iopub.status.busy": "2021-03-26T02:19:19.149944Z",
          "iopub.status.idle": "2021-03-26T02:19:19.154217Z",
          "shell.execute_reply": "2021-03-26T02:19:19.153536Z"
        },
        "papermill": {
          "duration": 0.050844,
          "end_time": "2021-03-26T02:19:19.154371",
          "exception": false,
          "start_time": "2021-03-26T02:19:19.103527",
          "status": "completed"
        },
        "tags": [],
        "id": "SEr7iyMGzfIV"
      },
      "outputs": [],
      "source": [
        "data = data.drop(['Unnamed: 6'], axis=1)\n",
        "data = data.drop(['state_code.1'], axis=1)"
      ]
    },
    {
      "cell_type": "code",
      "execution_count": null,
      "metadata": {
        "execution": {
          "iopub.execute_input": "2021-03-26T02:19:19.237838Z",
          "iopub.status.busy": "2021-03-26T02:19:19.236771Z",
          "iopub.status.idle": "2021-03-26T02:19:19.256951Z",
          "shell.execute_reply": "2021-03-26T02:19:19.256296Z"
        },
        "papermill": {
          "duration": 0.065346,
          "end_time": "2021-03-26T02:19:19.257102",
          "exception": false,
          "start_time": "2021-03-26T02:19:19.191756",
          "status": "completed"
        },
        "tags": [],
        "colab": {
          "base_uri": "https://localhost:8080/"
        },
        "id": "ujgd5cNtzfIV",
        "outputId": "786c4fdb-fbd6-4f06-cbc9-b97051fd66a3"
      },
      "outputs": [
        {
          "output_type": "execute_result",
          "data": {
            "text/plain": [
              "0"
            ]
          },
          "metadata": {},
          "execution_count": 57
        }
      ],
      "source": [
        "data.duplicated().sum()"
      ]
    },
    {
      "cell_type": "markdown",
      "metadata": {
        "papermill": {
          "duration": 0.037165,
          "end_time": "2021-03-26T02:19:19.332379",
          "exception": false,
          "start_time": "2021-03-26T02:19:19.295214",
          "status": "completed"
        },
        "tags": [],
        "id": "dn1e9DolzfIW"
      },
      "source": [
        "there is no duplicated data. But if we check the duplicated data with subset name, that will appear 1 duplicated data. Drop it"
      ]
    },
    {
      "cell_type": "code",
      "execution_count": null,
      "metadata": {
        "execution": {
          "iopub.execute_input": "2021-03-26T02:19:19.415182Z",
          "iopub.status.busy": "2021-03-26T02:19:19.413371Z",
          "iopub.status.idle": "2021-03-26T02:19:19.420298Z",
          "shell.execute_reply": "2021-03-26T02:19:19.419593Z"
        },
        "papermill": {
          "duration": 0.050409,
          "end_time": "2021-03-26T02:19:19.420463",
          "exception": false,
          "start_time": "2021-03-26T02:19:19.370054",
          "status": "completed"
        },
        "tags": [],
        "colab": {
          "base_uri": "https://localhost:8080/"
        },
        "id": "u9nxh099zfIW",
        "outputId": "77a975c6-3d8b-4181-ce6a-471b03fbd8df"
      },
      "outputs": [
        {
          "output_type": "execute_result",
          "data": {
            "text/plain": [
              "1"
            ]
          },
          "metadata": {},
          "execution_count": 58
        }
      ],
      "source": [
        "data.duplicated(subset=['name']).sum()"
      ]
    },
    {
      "cell_type": "code",
      "execution_count": null,
      "metadata": {
        "execution": {
          "iopub.execute_input": "2021-03-26T02:19:19.506716Z",
          "iopub.status.busy": "2021-03-26T02:19:19.505926Z",
          "iopub.status.idle": "2021-03-26T02:19:19.509872Z",
          "shell.execute_reply": "2021-03-26T02:19:19.509135Z"
        },
        "papermill": {
          "duration": 0.050274,
          "end_time": "2021-03-26T02:19:19.510044",
          "exception": false,
          "start_time": "2021-03-26T02:19:19.459770",
          "status": "completed"
        },
        "tags": [],
        "id": "x0Ph235WzfIW"
      },
      "outputs": [],
      "source": [
        "data=data.drop_duplicates(subset=['name'])"
      ]
    },
    {
      "cell_type": "markdown",
      "metadata": {
        "papermill": {
          "duration": 0.038421,
          "end_time": "2021-03-26T02:19:19.587615",
          "exception": false,
          "start_time": "2021-03-26T02:19:19.549194",
          "status": "completed"
        },
        "tags": [],
        "id": "IkkR80BvzfIW"
      },
      "source": [
        "Now we fill column 'age_first_milestone_year' and 'age_last_milestone_year' with 0. Zero is the the smallest value assumption for a company that has not passed its first milestone"
      ]
    },
    {
      "cell_type": "code",
      "execution_count": null,
      "metadata": {
        "execution": {
          "iopub.execute_input": "2021-03-26T02:19:19.673787Z",
          "iopub.status.busy": "2021-03-26T02:19:19.673050Z",
          "iopub.status.idle": "2021-03-26T02:19:19.676892Z",
          "shell.execute_reply": "2021-03-26T02:19:19.676139Z"
        },
        "papermill": {
          "duration": 0.049873,
          "end_time": "2021-03-26T02:19:19.677062",
          "exception": false,
          "start_time": "2021-03-26T02:19:19.627189",
          "status": "completed"
        },
        "tags": [],
        "id": "psT179IszfIW"
      },
      "outputs": [],
      "source": [
        "data['age_first_milestone_year'] = data['age_first_milestone_year'].fillna(0)\n",
        "data['age_last_milestone_year'] = data['age_last_milestone_year'].fillna(0)"
      ]
    },
    {
      "cell_type": "markdown",
      "metadata": {
        "papermill": {
          "duration": 0.038044,
          "end_time": "2021-03-26T02:19:19.753671",
          "exception": false,
          "start_time": "2021-03-26T02:19:19.715627",
          "status": "completed"
        },
        "tags": [],
        "id": "1bwTJKBrzfIX"
      },
      "source": [
        "**Add new feature 'Age'.**"
      ]
    },
    {
      "cell_type": "code",
      "execution_count": null,
      "metadata": {
        "execution": {
          "iopub.execute_input": "2021-03-26T02:19:19.853081Z",
          "iopub.status.busy": "2021-03-26T02:19:19.847832Z",
          "iopub.status.idle": "2021-03-26T02:19:19.887668Z",
          "shell.execute_reply": "2021-03-26T02:19:19.888225Z"
        },
        "papermill": {
          "duration": 0.096653,
          "end_time": "2021-03-26T02:19:19.888399",
          "exception": false,
          "start_time": "2021-03-26T02:19:19.791746",
          "status": "completed"
        },
        "tags": [],
        "id": "mKyHcRf1zfIX"
      },
      "outputs": [],
      "source": [
        "data['closed_at'] = pd.to_datetime(data['closed_at'])\n",
        "data['founded_at'] = pd.to_datetime(data['founded_at'])\n",
        "#convert to datetime data\n",
        "\n",
        "data['last_date']=data['closed_at'] #copy data\n",
        "data['last_date']=data['last_date'].fillna('2013-12-31')\n",
        "data['last_date']=pd.to_datetime(data['last_date'])"
      ]
    },
    {
      "cell_type": "markdown",
      "metadata": {
        "papermill": {
          "duration": 0.037915,
          "end_time": "2021-03-26T02:19:19.964606",
          "exception": false,
          "start_time": "2021-03-26T02:19:19.926691",
          "status": "completed"
        },
        "tags": [],
        "id": "uQn4z1onzfIX"
      },
      "source": [
        "We fill column last_date with 2013-12-31 with assumption that is the last number of dataset "
      ]
    },
    {
      "cell_type": "code",
      "execution_count": null,
      "metadata": {
        "execution": {
          "iopub.execute_input": "2021-03-26T02:19:20.052280Z",
          "iopub.status.busy": "2021-03-26T02:19:20.051254Z",
          "iopub.status.idle": "2021-03-26T02:19:20.058562Z",
          "shell.execute_reply": "2021-03-26T02:19:20.057703Z"
        },
        "papermill": {
          "duration": 0.055499,
          "end_time": "2021-03-26T02:19:20.058750",
          "exception": false,
          "start_time": "2021-03-26T02:19:20.003251",
          "status": "completed"
        },
        "tags": [],
        "id": "35wH6G_MzfIX"
      },
      "outputs": [],
      "source": [
        "data[\"founded_at\"] = pd.to_datetime(data[\"founded_at\"])\n",
        "\n",
        "data[\"age\"] = (data[\"last_date\"]-data[\"founded_at\"])\n",
        "data[\"age\"]=round(data.age/np.timedelta64(1,'Y'))"
      ]
    },
    {
      "cell_type": "markdown",
      "metadata": {
        "papermill": {
          "duration": 0.03933,
          "end_time": "2021-03-26T02:19:20.136789",
          "exception": false,
          "start_time": "2021-03-26T02:19:20.097459",
          "status": "completed"
        },
        "tags": [],
        "id": "2vtULjlhzfIX"
      },
      "source": [
        "If we check it, there is minus number in here. Drop minus number"
      ]
    },
    {
      "cell_type": "code",
      "execution_count": null,
      "metadata": {
        "execution": {
          "iopub.execute_input": "2021-03-26T02:19:20.222629Z",
          "iopub.status.busy": "2021-03-26T02:19:20.221592Z",
          "iopub.status.idle": "2021-03-26T02:19:20.237504Z",
          "shell.execute_reply": "2021-03-26T02:19:20.236887Z"
        },
        "papermill": {
          "duration": 0.061704,
          "end_time": "2021-03-26T02:19:20.237670",
          "exception": false,
          "start_time": "2021-03-26T02:19:20.175966",
          "status": "completed"
        },
        "tags": [],
        "colab": {
          "base_uri": "https://localhost:8080/",
          "height": 206
        },
        "id": "L3CrIUSJzfIY",
        "outputId": "fb6d192e-e523-4455-bb71-23cabbe9bd1c"
      },
      "outputs": [
        {
          "output_type": "execute_result",
          "data": {
            "text/plain": [
              "     age  age_first_funding_year  age_last_funding_year  \\\n",
              "88  -8.0                  0.8822                 0.8822   \n",
              "558 -4.0                 -9.0466                -9.0466   \n",
              "73  -2.0                  1.6685                 9.3370   \n",
              "350  0.0                  0.3288                 0.3288   \n",
              "690  0.0                  0.0000                 0.6904   \n",
              "\n",
              "     age_first_milestone_year  age_last_milestone_year  \n",
              "88                     0.0000                   0.0000  \n",
              "558                   -6.0466                  -3.8822  \n",
              "73                     7.3808                  10.4740  \n",
              "350                   -0.4192                  -0.4192  \n",
              "690                    0.0000                   0.6904  "
            ],
            "text/html": [
              "\n",
              "  <div id=\"df-1266e5da-5bb0-4bf7-9a4e-0e73c458bd37\">\n",
              "    <div class=\"colab-df-container\">\n",
              "      <div>\n",
              "<style scoped>\n",
              "    .dataframe tbody tr th:only-of-type {\n",
              "        vertical-align: middle;\n",
              "    }\n",
              "\n",
              "    .dataframe tbody tr th {\n",
              "        vertical-align: top;\n",
              "    }\n",
              "\n",
              "    .dataframe thead th {\n",
              "        text-align: right;\n",
              "    }\n",
              "</style>\n",
              "<table border=\"1\" class=\"dataframe\">\n",
              "  <thead>\n",
              "    <tr style=\"text-align: right;\">\n",
              "      <th></th>\n",
              "      <th>age</th>\n",
              "      <th>age_first_funding_year</th>\n",
              "      <th>age_last_funding_year</th>\n",
              "      <th>age_first_milestone_year</th>\n",
              "      <th>age_last_milestone_year</th>\n",
              "    </tr>\n",
              "  </thead>\n",
              "  <tbody>\n",
              "    <tr>\n",
              "      <th>88</th>\n",
              "      <td>-8.0</td>\n",
              "      <td>0.8822</td>\n",
              "      <td>0.8822</td>\n",
              "      <td>0.0000</td>\n",
              "      <td>0.0000</td>\n",
              "    </tr>\n",
              "    <tr>\n",
              "      <th>558</th>\n",
              "      <td>-4.0</td>\n",
              "      <td>-9.0466</td>\n",
              "      <td>-9.0466</td>\n",
              "      <td>-6.0466</td>\n",
              "      <td>-3.8822</td>\n",
              "    </tr>\n",
              "    <tr>\n",
              "      <th>73</th>\n",
              "      <td>-2.0</td>\n",
              "      <td>1.6685</td>\n",
              "      <td>9.3370</td>\n",
              "      <td>7.3808</td>\n",
              "      <td>10.4740</td>\n",
              "    </tr>\n",
              "    <tr>\n",
              "      <th>350</th>\n",
              "      <td>0.0</td>\n",
              "      <td>0.3288</td>\n",
              "      <td>0.3288</td>\n",
              "      <td>-0.4192</td>\n",
              "      <td>-0.4192</td>\n",
              "    </tr>\n",
              "    <tr>\n",
              "      <th>690</th>\n",
              "      <td>0.0</td>\n",
              "      <td>0.0000</td>\n",
              "      <td>0.6904</td>\n",
              "      <td>0.0000</td>\n",
              "      <td>0.6904</td>\n",
              "    </tr>\n",
              "  </tbody>\n",
              "</table>\n",
              "</div>\n",
              "      <button class=\"colab-df-convert\" onclick=\"convertToInteractive('df-1266e5da-5bb0-4bf7-9a4e-0e73c458bd37')\"\n",
              "              title=\"Convert this dataframe to an interactive table.\"\n",
              "              style=\"display:none;\">\n",
              "        \n",
              "  <svg xmlns=\"http://www.w3.org/2000/svg\" height=\"24px\"viewBox=\"0 0 24 24\"\n",
              "       width=\"24px\">\n",
              "    <path d=\"M0 0h24v24H0V0z\" fill=\"none\"/>\n",
              "    <path d=\"M18.56 5.44l.94 2.06.94-2.06 2.06-.94-2.06-.94-.94-2.06-.94 2.06-2.06.94zm-11 1L8.5 8.5l.94-2.06 2.06-.94-2.06-.94L8.5 2.5l-.94 2.06-2.06.94zm10 10l.94 2.06.94-2.06 2.06-.94-2.06-.94-.94-2.06-.94 2.06-2.06.94z\"/><path d=\"M17.41 7.96l-1.37-1.37c-.4-.4-.92-.59-1.43-.59-.52 0-1.04.2-1.43.59L10.3 9.45l-7.72 7.72c-.78.78-.78 2.05 0 2.83L4 21.41c.39.39.9.59 1.41.59.51 0 1.02-.2 1.41-.59l7.78-7.78 2.81-2.81c.8-.78.8-2.07 0-2.86zM5.41 20L4 18.59l7.72-7.72 1.47 1.35L5.41 20z\"/>\n",
              "  </svg>\n",
              "      </button>\n",
              "      \n",
              "  <style>\n",
              "    .colab-df-container {\n",
              "      display:flex;\n",
              "      flex-wrap:wrap;\n",
              "      gap: 12px;\n",
              "    }\n",
              "\n",
              "    .colab-df-convert {\n",
              "      background-color: #E8F0FE;\n",
              "      border: none;\n",
              "      border-radius: 50%;\n",
              "      cursor: pointer;\n",
              "      display: none;\n",
              "      fill: #1967D2;\n",
              "      height: 32px;\n",
              "      padding: 0 0 0 0;\n",
              "      width: 32px;\n",
              "    }\n",
              "\n",
              "    .colab-df-convert:hover {\n",
              "      background-color: #E2EBFA;\n",
              "      box-shadow: 0px 1px 2px rgba(60, 64, 67, 0.3), 0px 1px 3px 1px rgba(60, 64, 67, 0.15);\n",
              "      fill: #174EA6;\n",
              "    }\n",
              "\n",
              "    [theme=dark] .colab-df-convert {\n",
              "      background-color: #3B4455;\n",
              "      fill: #D2E3FC;\n",
              "    }\n",
              "\n",
              "    [theme=dark] .colab-df-convert:hover {\n",
              "      background-color: #434B5C;\n",
              "      box-shadow: 0px 1px 3px 1px rgba(0, 0, 0, 0.15);\n",
              "      filter: drop-shadow(0px 1px 2px rgba(0, 0, 0, 0.3));\n",
              "      fill: #FFFFFF;\n",
              "    }\n",
              "  </style>\n",
              "\n",
              "      <script>\n",
              "        const buttonEl =\n",
              "          document.querySelector('#df-1266e5da-5bb0-4bf7-9a4e-0e73c458bd37 button.colab-df-convert');\n",
              "        buttonEl.style.display =\n",
              "          google.colab.kernel.accessAllowed ? 'block' : 'none';\n",
              "\n",
              "        async function convertToInteractive(key) {\n",
              "          const element = document.querySelector('#df-1266e5da-5bb0-4bf7-9a4e-0e73c458bd37');\n",
              "          const dataTable =\n",
              "            await google.colab.kernel.invokeFunction('convertToInteractive',\n",
              "                                                     [key], {});\n",
              "          if (!dataTable) return;\n",
              "\n",
              "          const docLinkHtml = 'Like what you see? Visit the ' +\n",
              "            '<a target=\"_blank\" href=https://colab.research.google.com/notebooks/data_table.ipynb>data table notebook</a>'\n",
              "            + ' to learn more about interactive tables.';\n",
              "          element.innerHTML = '';\n",
              "          dataTable['output_type'] = 'display_data';\n",
              "          await google.colab.output.renderOutput(dataTable, element);\n",
              "          const docLink = document.createElement('div');\n",
              "          docLink.innerHTML = docLinkHtml;\n",
              "          element.appendChild(docLink);\n",
              "        }\n",
              "      </script>\n",
              "    </div>\n",
              "  </div>\n",
              "  "
            ]
          },
          "metadata": {},
          "execution_count": 63
        }
      ],
      "source": [
        "data[[ 'age', 'age_first_funding_year','age_last_funding_year', 'age_first_milestone_year',\n",
        "       'age_last_milestone_year']].sort_values('age').head()"
      ]
    },
    {
      "cell_type": "code",
      "execution_count": null,
      "metadata": {
        "execution": {
          "iopub.execute_input": "2021-03-26T02:19:20.329931Z",
          "iopub.status.busy": "2021-03-26T02:19:20.328750Z",
          "iopub.status.idle": "2021-03-26T02:19:20.342972Z",
          "shell.execute_reply": "2021-03-26T02:19:20.342280Z"
        },
        "papermill": {
          "duration": 0.065162,
          "end_time": "2021-03-26T02:19:20.343157",
          "exception": false,
          "start_time": "2021-03-26T02:19:20.277995",
          "status": "completed"
        },
        "tags": [],
        "id": "x1-lGocezfIY"
      },
      "outputs": [],
      "source": [
        "data=data.drop(data[data.age<0].index)\n",
        "data=data.drop(data[data.age_first_funding_year<0].index)\n",
        "data=data.drop(data[data.age_last_funding_year<0].index)\n",
        "data=data.drop(data[data.age_first_milestone_year<0].index)\n",
        "data=data.drop(data[data.age_last_milestone_year<0].index)"
      ]
    },
    {
      "cell_type": "markdown",
      "metadata": {
        "papermill": {
          "duration": 0.039538,
          "end_time": "2021-03-26T02:19:20.422947",
          "exception": false,
          "start_time": "2021-03-26T02:19:20.383409",
          "status": "completed"
        },
        "tags": [],
        "id": "NS-uwdmuzfIY"
      },
      "source": [
        "Now we check for distribution, there is some features with skewness disribution more than 2. Handling it with normalization."
      ]
    },
    {
      "cell_type": "code",
      "execution_count": null,
      "metadata": {
        "execution": {
          "iopub.execute_input": "2021-03-26T02:19:20.517545Z",
          "iopub.status.busy": "2021-03-26T02:19:20.512781Z",
          "iopub.status.idle": "2021-03-26T02:19:20.523830Z",
          "shell.execute_reply": "2021-03-26T02:19:20.523026Z"
        },
        "papermill": {
          "duration": 0.060654,
          "end_time": "2021-03-26T02:19:20.524008",
          "exception": false,
          "start_time": "2021-03-26T02:19:20.463354",
          "status": "completed"
        },
        "tags": [],
        "colab": {
          "base_uri": "https://localhost:8080/"
        },
        "id": "yuEqo0ONzfIY",
        "outputId": "8d82ef2e-1fcd-43d5-f1aa-4265e24bb543"
      },
      "outputs": [
        {
          "output_type": "execute_result",
          "data": {
            "text/plain": [
              "age_first_funding_year       True\n",
              "relationships                True\n",
              "funding_total_usd            True\n",
              "age_last_funding_year       False\n",
              "age_first_milestone_year    False\n",
              "age_last_milestone_year     False\n",
              "funding_rounds              False\n",
              "milestones                  False\n",
              "avg_participants            False\n",
              "age                         False\n",
              "dtype: bool"
            ]
          },
          "metadata": {},
          "execution_count": 65
        }
      ],
      "source": [
        "features = ['age_first_funding_year', 'relationships','funding_total_usd',\n",
        "            'age_last_funding_year','age_first_milestone_year', \n",
        "            'age_last_milestone_year', 'funding_rounds', \n",
        "            'milestones','avg_participants', 'age']\n",
        "data[features].skew(axis=0, skipna=True)>2"
      ]
    },
    {
      "cell_type": "code",
      "execution_count": null,
      "metadata": {
        "execution": {
          "iopub.execute_input": "2021-03-26T02:19:20.616616Z",
          "iopub.status.busy": "2021-03-26T02:19:20.615509Z",
          "iopub.status.idle": "2021-03-26T02:19:20.620380Z",
          "shell.execute_reply": "2021-03-26T02:19:20.619748Z"
        },
        "papermill": {
          "duration": 0.055961,
          "end_time": "2021-03-26T02:19:20.620566",
          "exception": false,
          "start_time": "2021-03-26T02:19:20.564605",
          "status": "completed"
        },
        "tags": [],
        "id": "cU5h2-XPzfIY"
      },
      "outputs": [],
      "source": [
        "norm = ['age_first_funding_year', 'relationships', 'funding_total_usd']\n",
        "data = data\n",
        "for var in norm:\n",
        "    data['norm_'+var]=MinMaxScaler().fit_transform(data[var].values.reshape(len(data),1))"
      ]
    },
    {
      "cell_type": "markdown",
      "metadata": {
        "papermill": {
          "duration": 0.040508,
          "end_time": "2021-03-26T02:19:20.703624",
          "exception": false,
          "start_time": "2021-03-26T02:19:20.663116",
          "status": "completed"
        },
        "tags": [],
        "id": "9yq1aG5lzfIY"
      },
      "source": [
        "# **Data Visualization**"
      ]
    },
    {
      "cell_type": "code",
      "source": [
        "\n",
        "import plotly.express as px\n",
        "#Analysing Target Variable\n",
        "lis=['Acquired','Closed']\n",
        "tar_var = data[\"labels\"].value_counts().tolist()\n",
        "val = [tar_var[0], tar_var[1]]\n",
        "fig = px.pie(values=data[\"labels\"].value_counts(), \n",
        "             names=lis , width=800, height=400, color_discrete_sequence=[\"orange\",\"green\"]\n",
        "             ,title=\"Distribution of Target Varaible\")\n",
        "fig.show()"
      ],
      "metadata": {
        "colab": {
          "base_uri": "https://localhost:8080/",
          "height": 417
        },
        "id": "IfYeMOb_6oIa",
        "outputId": "e28e9660-b2fa-42bd-8985-0c51c603e126"
      },
      "execution_count": null,
      "outputs": [
        {
          "output_type": "display_data",
          "data": {
            "text/html": [
              "<html>\n",
              "<head><meta charset=\"utf-8\" /></head>\n",
              "<body>\n",
              "    <div>            <script src=\"https://cdnjs.cloudflare.com/ajax/libs/mathjax/2.7.5/MathJax.js?config=TeX-AMS-MML_SVG\"></script><script type=\"text/javascript\">if (window.MathJax) {MathJax.Hub.Config({SVG: {font: \"STIX-Web\"}});}</script>                <script type=\"text/javascript\">window.PlotlyConfig = {MathJaxConfig: 'local'};</script>\n",
              "        <script src=\"https://cdn.plot.ly/plotly-2.8.3.min.js\"></script>                <div id=\"9b15a276-38cb-49db-9252-1c23b023baf4\" class=\"plotly-graph-div\" style=\"height:400px; width:800px;\"></div>            <script type=\"text/javascript\">                                    window.PLOTLYENV=window.PLOTLYENV || {};                                    if (document.getElementById(\"9b15a276-38cb-49db-9252-1c23b023baf4\")) {                    Plotly.newPlot(                        \"9b15a276-38cb-49db-9252-1c23b023baf4\",                        [{\"domain\":{\"x\":[0.0,1.0],\"y\":[0.0,1.0]},\"hovertemplate\":\"label=%{label}<br>value=%{value}<extra></extra>\",\"labels\":[\"Acquired\",\"Closed\"],\"legendgroup\":\"\",\"name\":\"\",\"showlegend\":true,\"values\":[550,287],\"type\":\"pie\"}],                        {\"template\":{\"data\":{\"bar\":[{\"error_x\":{\"color\":\"#2a3f5f\"},\"error_y\":{\"color\":\"#2a3f5f\"},\"marker\":{\"line\":{\"color\":\"#E5ECF6\",\"width\":0.5},\"pattern\":{\"fillmode\":\"overlay\",\"size\":10,\"solidity\":0.2}},\"type\":\"bar\"}],\"barpolar\":[{\"marker\":{\"line\":{\"color\":\"#E5ECF6\",\"width\":0.5},\"pattern\":{\"fillmode\":\"overlay\",\"size\":10,\"solidity\":0.2}},\"type\":\"barpolar\"}],\"carpet\":[{\"aaxis\":{\"endlinecolor\":\"#2a3f5f\",\"gridcolor\":\"white\",\"linecolor\":\"white\",\"minorgridcolor\":\"white\",\"startlinecolor\":\"#2a3f5f\"},\"baxis\":{\"endlinecolor\":\"#2a3f5f\",\"gridcolor\":\"white\",\"linecolor\":\"white\",\"minorgridcolor\":\"white\",\"startlinecolor\":\"#2a3f5f\"},\"type\":\"carpet\"}],\"choropleth\":[{\"colorbar\":{\"outlinewidth\":0,\"ticks\":\"\"},\"type\":\"choropleth\"}],\"contour\":[{\"colorbar\":{\"outlinewidth\":0,\"ticks\":\"\"},\"colorscale\":[[0.0,\"#0d0887\"],[0.1111111111111111,\"#46039f\"],[0.2222222222222222,\"#7201a8\"],[0.3333333333333333,\"#9c179e\"],[0.4444444444444444,\"#bd3786\"],[0.5555555555555556,\"#d8576b\"],[0.6666666666666666,\"#ed7953\"],[0.7777777777777778,\"#fb9f3a\"],[0.8888888888888888,\"#fdca26\"],[1.0,\"#f0f921\"]],\"type\":\"contour\"}],\"contourcarpet\":[{\"colorbar\":{\"outlinewidth\":0,\"ticks\":\"\"},\"type\":\"contourcarpet\"}],\"heatmap\":[{\"colorbar\":{\"outlinewidth\":0,\"ticks\":\"\"},\"colorscale\":[[0.0,\"#0d0887\"],[0.1111111111111111,\"#46039f\"],[0.2222222222222222,\"#7201a8\"],[0.3333333333333333,\"#9c179e\"],[0.4444444444444444,\"#bd3786\"],[0.5555555555555556,\"#d8576b\"],[0.6666666666666666,\"#ed7953\"],[0.7777777777777778,\"#fb9f3a\"],[0.8888888888888888,\"#fdca26\"],[1.0,\"#f0f921\"]],\"type\":\"heatmap\"}],\"heatmapgl\":[{\"colorbar\":{\"outlinewidth\":0,\"ticks\":\"\"},\"colorscale\":[[0.0,\"#0d0887\"],[0.1111111111111111,\"#46039f\"],[0.2222222222222222,\"#7201a8\"],[0.3333333333333333,\"#9c179e\"],[0.4444444444444444,\"#bd3786\"],[0.5555555555555556,\"#d8576b\"],[0.6666666666666666,\"#ed7953\"],[0.7777777777777778,\"#fb9f3a\"],[0.8888888888888888,\"#fdca26\"],[1.0,\"#f0f921\"]],\"type\":\"heatmapgl\"}],\"histogram\":[{\"marker\":{\"pattern\":{\"fillmode\":\"overlay\",\"size\":10,\"solidity\":0.2}},\"type\":\"histogram\"}],\"histogram2d\":[{\"colorbar\":{\"outlinewidth\":0,\"ticks\":\"\"},\"colorscale\":[[0.0,\"#0d0887\"],[0.1111111111111111,\"#46039f\"],[0.2222222222222222,\"#7201a8\"],[0.3333333333333333,\"#9c179e\"],[0.4444444444444444,\"#bd3786\"],[0.5555555555555556,\"#d8576b\"],[0.6666666666666666,\"#ed7953\"],[0.7777777777777778,\"#fb9f3a\"],[0.8888888888888888,\"#fdca26\"],[1.0,\"#f0f921\"]],\"type\":\"histogram2d\"}],\"histogram2dcontour\":[{\"colorbar\":{\"outlinewidth\":0,\"ticks\":\"\"},\"colorscale\":[[0.0,\"#0d0887\"],[0.1111111111111111,\"#46039f\"],[0.2222222222222222,\"#7201a8\"],[0.3333333333333333,\"#9c179e\"],[0.4444444444444444,\"#bd3786\"],[0.5555555555555556,\"#d8576b\"],[0.6666666666666666,\"#ed7953\"],[0.7777777777777778,\"#fb9f3a\"],[0.8888888888888888,\"#fdca26\"],[1.0,\"#f0f921\"]],\"type\":\"histogram2dcontour\"}],\"mesh3d\":[{\"colorbar\":{\"outlinewidth\":0,\"ticks\":\"\"},\"type\":\"mesh3d\"}],\"parcoords\":[{\"line\":{\"colorbar\":{\"outlinewidth\":0,\"ticks\":\"\"}},\"type\":\"parcoords\"}],\"pie\":[{\"automargin\":true,\"type\":\"pie\"}],\"scatter\":[{\"marker\":{\"colorbar\":{\"outlinewidth\":0,\"ticks\":\"\"}},\"type\":\"scatter\"}],\"scatter3d\":[{\"line\":{\"colorbar\":{\"outlinewidth\":0,\"ticks\":\"\"}},\"marker\":{\"colorbar\":{\"outlinewidth\":0,\"ticks\":\"\"}},\"type\":\"scatter3d\"}],\"scattercarpet\":[{\"marker\":{\"colorbar\":{\"outlinewidth\":0,\"ticks\":\"\"}},\"type\":\"scattercarpet\"}],\"scattergeo\":[{\"marker\":{\"colorbar\":{\"outlinewidth\":0,\"ticks\":\"\"}},\"type\":\"scattergeo\"}],\"scattergl\":[{\"marker\":{\"colorbar\":{\"outlinewidth\":0,\"ticks\":\"\"}},\"type\":\"scattergl\"}],\"scattermapbox\":[{\"marker\":{\"colorbar\":{\"outlinewidth\":0,\"ticks\":\"\"}},\"type\":\"scattermapbox\"}],\"scatterpolar\":[{\"marker\":{\"colorbar\":{\"outlinewidth\":0,\"ticks\":\"\"}},\"type\":\"scatterpolar\"}],\"scatterpolargl\":[{\"marker\":{\"colorbar\":{\"outlinewidth\":0,\"ticks\":\"\"}},\"type\":\"scatterpolargl\"}],\"scatterternary\":[{\"marker\":{\"colorbar\":{\"outlinewidth\":0,\"ticks\":\"\"}},\"type\":\"scatterternary\"}],\"surface\":[{\"colorbar\":{\"outlinewidth\":0,\"ticks\":\"\"},\"colorscale\":[[0.0,\"#0d0887\"],[0.1111111111111111,\"#46039f\"],[0.2222222222222222,\"#7201a8\"],[0.3333333333333333,\"#9c179e\"],[0.4444444444444444,\"#bd3786\"],[0.5555555555555556,\"#d8576b\"],[0.6666666666666666,\"#ed7953\"],[0.7777777777777778,\"#fb9f3a\"],[0.8888888888888888,\"#fdca26\"],[1.0,\"#f0f921\"]],\"type\":\"surface\"}],\"table\":[{\"cells\":{\"fill\":{\"color\":\"#EBF0F8\"},\"line\":{\"color\":\"white\"}},\"header\":{\"fill\":{\"color\":\"#C8D4E3\"},\"line\":{\"color\":\"white\"}},\"type\":\"table\"}]},\"layout\":{\"annotationdefaults\":{\"arrowcolor\":\"#2a3f5f\",\"arrowhead\":0,\"arrowwidth\":1},\"autotypenumbers\":\"strict\",\"coloraxis\":{\"colorbar\":{\"outlinewidth\":0,\"ticks\":\"\"}},\"colorscale\":{\"diverging\":[[0,\"#8e0152\"],[0.1,\"#c51b7d\"],[0.2,\"#de77ae\"],[0.3,\"#f1b6da\"],[0.4,\"#fde0ef\"],[0.5,\"#f7f7f7\"],[0.6,\"#e6f5d0\"],[0.7,\"#b8e186\"],[0.8,\"#7fbc41\"],[0.9,\"#4d9221\"],[1,\"#276419\"]],\"sequential\":[[0.0,\"#0d0887\"],[0.1111111111111111,\"#46039f\"],[0.2222222222222222,\"#7201a8\"],[0.3333333333333333,\"#9c179e\"],[0.4444444444444444,\"#bd3786\"],[0.5555555555555556,\"#d8576b\"],[0.6666666666666666,\"#ed7953\"],[0.7777777777777778,\"#fb9f3a\"],[0.8888888888888888,\"#fdca26\"],[1.0,\"#f0f921\"]],\"sequentialminus\":[[0.0,\"#0d0887\"],[0.1111111111111111,\"#46039f\"],[0.2222222222222222,\"#7201a8\"],[0.3333333333333333,\"#9c179e\"],[0.4444444444444444,\"#bd3786\"],[0.5555555555555556,\"#d8576b\"],[0.6666666666666666,\"#ed7953\"],[0.7777777777777778,\"#fb9f3a\"],[0.8888888888888888,\"#fdca26\"],[1.0,\"#f0f921\"]]},\"colorway\":[\"#636efa\",\"#EF553B\",\"#00cc96\",\"#ab63fa\",\"#FFA15A\",\"#19d3f3\",\"#FF6692\",\"#B6E880\",\"#FF97FF\",\"#FECB52\"],\"font\":{\"color\":\"#2a3f5f\"},\"geo\":{\"bgcolor\":\"white\",\"lakecolor\":\"white\",\"landcolor\":\"#E5ECF6\",\"showlakes\":true,\"showland\":true,\"subunitcolor\":\"white\"},\"hoverlabel\":{\"align\":\"left\"},\"hovermode\":\"closest\",\"mapbox\":{\"style\":\"light\"},\"paper_bgcolor\":\"white\",\"plot_bgcolor\":\"#E5ECF6\",\"polar\":{\"angularaxis\":{\"gridcolor\":\"white\",\"linecolor\":\"white\",\"ticks\":\"\"},\"bgcolor\":\"#E5ECF6\",\"radialaxis\":{\"gridcolor\":\"white\",\"linecolor\":\"white\",\"ticks\":\"\"}},\"scene\":{\"xaxis\":{\"backgroundcolor\":\"#E5ECF6\",\"gridcolor\":\"white\",\"gridwidth\":2,\"linecolor\":\"white\",\"showbackground\":true,\"ticks\":\"\",\"zerolinecolor\":\"white\"},\"yaxis\":{\"backgroundcolor\":\"#E5ECF6\",\"gridcolor\":\"white\",\"gridwidth\":2,\"linecolor\":\"white\",\"showbackground\":true,\"ticks\":\"\",\"zerolinecolor\":\"white\"},\"zaxis\":{\"backgroundcolor\":\"#E5ECF6\",\"gridcolor\":\"white\",\"gridwidth\":2,\"linecolor\":\"white\",\"showbackground\":true,\"ticks\":\"\",\"zerolinecolor\":\"white\"}},\"shapedefaults\":{\"line\":{\"color\":\"#2a3f5f\"}},\"ternary\":{\"aaxis\":{\"gridcolor\":\"white\",\"linecolor\":\"white\",\"ticks\":\"\"},\"baxis\":{\"gridcolor\":\"white\",\"linecolor\":\"white\",\"ticks\":\"\"},\"bgcolor\":\"#E5ECF6\",\"caxis\":{\"gridcolor\":\"white\",\"linecolor\":\"white\",\"ticks\":\"\"}},\"title\":{\"x\":0.05},\"xaxis\":{\"automargin\":true,\"gridcolor\":\"white\",\"linecolor\":\"white\",\"ticks\":\"\",\"title\":{\"standoff\":15},\"zerolinecolor\":\"white\",\"zerolinewidth\":2},\"yaxis\":{\"automargin\":true,\"gridcolor\":\"white\",\"linecolor\":\"white\",\"ticks\":\"\",\"title\":{\"standoff\":15},\"zerolinecolor\":\"white\",\"zerolinewidth\":2}}},\"legend\":{\"tracegroupgap\":0},\"title\":{\"text\":\"Distribution of Target Varaible\"},\"piecolorway\":[\"orange\",\"green\"],\"height\":400,\"width\":800},                        {\"responsive\": true}                    ).then(function(){\n",
              "                            \n",
              "var gd = document.getElementById('9b15a276-38cb-49db-9252-1c23b023baf4');\n",
              "var x = new MutationObserver(function (mutations, observer) {{\n",
              "        var display = window.getComputedStyle(gd).display;\n",
              "        if (!display || display === 'none') {{\n",
              "            console.log([gd, 'removed!']);\n",
              "            Plotly.purge(gd);\n",
              "            observer.disconnect();\n",
              "        }}\n",
              "}});\n",
              "\n",
              "// Listen for the removal of the full notebook cells\n",
              "var notebookContainer = gd.closest('#notebook-container');\n",
              "if (notebookContainer) {{\n",
              "    x.observe(notebookContainer, {childList: true});\n",
              "}}\n",
              "\n",
              "// Listen for the clearing of the current output cell\n",
              "var outputEl = gd.closest('.output');\n",
              "if (outputEl) {{\n",
              "    x.observe(outputEl, {childList: true});\n",
              "}}\n",
              "\n",
              "                        })                };                            </script>        </div>\n",
              "</body>\n",
              "</html>"
            ]
          },
          "metadata": {}
        }
      ]
    },
    {
      "cell_type": "code",
      "execution_count": null,
      "metadata": {
        "execution": {
          "iopub.execute_input": "2021-03-26T02:19:20.793592Z",
          "iopub.status.busy": "2021-03-26T02:19:20.792807Z",
          "iopub.status.idle": "2021-03-26T02:19:20.828726Z",
          "shell.execute_reply": "2021-03-26T02:19:20.829236Z"
        },
        "papermill": {
          "duration": 0.08537,
          "end_time": "2021-03-26T02:19:20.829585",
          "exception": false,
          "start_time": "2021-03-26T02:19:20.744215",
          "status": "completed"
        },
        "tags": [],
        "colab": {
          "base_uri": "https://localhost:8080/",
          "height": 457
        },
        "id": "CfE-rRuRzfIZ",
        "outputId": "cf3caea9-2090-49d9-c462-dceca493d728"
      },
      "outputs": [
        {
          "output_type": "execute_result",
          "data": {
            "text/plain": [
              "     age  total_succes  total  succes_rate\n",
              "0    2.0             8     38        21.05\n",
              "1    3.0            16     53        30.19\n",
              "2    4.0            36     68        52.94\n",
              "3    5.0            51     83        61.45\n",
              "4    6.0            58     82        70.73\n",
              "5    7.0            54     85        63.53\n",
              "6    8.0            56     73        76.71\n",
              "7    9.0            66     85        77.65\n",
              "8   10.0            41     53        77.36\n",
              "9   11.0            43     52        82.69\n",
              "10  12.0            42     50        84.00\n",
              "11  13.0            33     41        80.49\n",
              "12  14.0            46     50        92.00"
            ],
            "text/html": [
              "\n",
              "  <div id=\"df-f6fac54f-d0ad-4366-b2e8-85abe5708dff\">\n",
              "    <div class=\"colab-df-container\">\n",
              "      <div>\n",
              "<style scoped>\n",
              "    .dataframe tbody tr th:only-of-type {\n",
              "        vertical-align: middle;\n",
              "    }\n",
              "\n",
              "    .dataframe tbody tr th {\n",
              "        vertical-align: top;\n",
              "    }\n",
              "\n",
              "    .dataframe thead th {\n",
              "        text-align: right;\n",
              "    }\n",
              "</style>\n",
              "<table border=\"1\" class=\"dataframe\">\n",
              "  <thead>\n",
              "    <tr style=\"text-align: right;\">\n",
              "      <th></th>\n",
              "      <th>age</th>\n",
              "      <th>total_succes</th>\n",
              "      <th>total</th>\n",
              "      <th>succes_rate</th>\n",
              "    </tr>\n",
              "  </thead>\n",
              "  <tbody>\n",
              "    <tr>\n",
              "      <th>0</th>\n",
              "      <td>2.0</td>\n",
              "      <td>8</td>\n",
              "      <td>38</td>\n",
              "      <td>21.05</td>\n",
              "    </tr>\n",
              "    <tr>\n",
              "      <th>1</th>\n",
              "      <td>3.0</td>\n",
              "      <td>16</td>\n",
              "      <td>53</td>\n",
              "      <td>30.19</td>\n",
              "    </tr>\n",
              "    <tr>\n",
              "      <th>2</th>\n",
              "      <td>4.0</td>\n",
              "      <td>36</td>\n",
              "      <td>68</td>\n",
              "      <td>52.94</td>\n",
              "    </tr>\n",
              "    <tr>\n",
              "      <th>3</th>\n",
              "      <td>5.0</td>\n",
              "      <td>51</td>\n",
              "      <td>83</td>\n",
              "      <td>61.45</td>\n",
              "    </tr>\n",
              "    <tr>\n",
              "      <th>4</th>\n",
              "      <td>6.0</td>\n",
              "      <td>58</td>\n",
              "      <td>82</td>\n",
              "      <td>70.73</td>\n",
              "    </tr>\n",
              "    <tr>\n",
              "      <th>5</th>\n",
              "      <td>7.0</td>\n",
              "      <td>54</td>\n",
              "      <td>85</td>\n",
              "      <td>63.53</td>\n",
              "    </tr>\n",
              "    <tr>\n",
              "      <th>6</th>\n",
              "      <td>8.0</td>\n",
              "      <td>56</td>\n",
              "      <td>73</td>\n",
              "      <td>76.71</td>\n",
              "    </tr>\n",
              "    <tr>\n",
              "      <th>7</th>\n",
              "      <td>9.0</td>\n",
              "      <td>66</td>\n",
              "      <td>85</td>\n",
              "      <td>77.65</td>\n",
              "    </tr>\n",
              "    <tr>\n",
              "      <th>8</th>\n",
              "      <td>10.0</td>\n",
              "      <td>41</td>\n",
              "      <td>53</td>\n",
              "      <td>77.36</td>\n",
              "    </tr>\n",
              "    <tr>\n",
              "      <th>9</th>\n",
              "      <td>11.0</td>\n",
              "      <td>43</td>\n",
              "      <td>52</td>\n",
              "      <td>82.69</td>\n",
              "    </tr>\n",
              "    <tr>\n",
              "      <th>10</th>\n",
              "      <td>12.0</td>\n",
              "      <td>42</td>\n",
              "      <td>50</td>\n",
              "      <td>84.00</td>\n",
              "    </tr>\n",
              "    <tr>\n",
              "      <th>11</th>\n",
              "      <td>13.0</td>\n",
              "      <td>33</td>\n",
              "      <td>41</td>\n",
              "      <td>80.49</td>\n",
              "    </tr>\n",
              "    <tr>\n",
              "      <th>12</th>\n",
              "      <td>14.0</td>\n",
              "      <td>46</td>\n",
              "      <td>50</td>\n",
              "      <td>92.00</td>\n",
              "    </tr>\n",
              "  </tbody>\n",
              "</table>\n",
              "</div>\n",
              "      <button class=\"colab-df-convert\" onclick=\"convertToInteractive('df-f6fac54f-d0ad-4366-b2e8-85abe5708dff')\"\n",
              "              title=\"Convert this dataframe to an interactive table.\"\n",
              "              style=\"display:none;\">\n",
              "        \n",
              "  <svg xmlns=\"http://www.w3.org/2000/svg\" height=\"24px\"viewBox=\"0 0 24 24\"\n",
              "       width=\"24px\">\n",
              "    <path d=\"M0 0h24v24H0V0z\" fill=\"none\"/>\n",
              "    <path d=\"M18.56 5.44l.94 2.06.94-2.06 2.06-.94-2.06-.94-.94-2.06-.94 2.06-2.06.94zm-11 1L8.5 8.5l.94-2.06 2.06-.94-2.06-.94L8.5 2.5l-.94 2.06-2.06.94zm10 10l.94 2.06.94-2.06 2.06-.94-2.06-.94-.94-2.06-.94 2.06-2.06.94z\"/><path d=\"M17.41 7.96l-1.37-1.37c-.4-.4-.92-.59-1.43-.59-.52 0-1.04.2-1.43.59L10.3 9.45l-7.72 7.72c-.78.78-.78 2.05 0 2.83L4 21.41c.39.39.9.59 1.41.59.51 0 1.02-.2 1.41-.59l7.78-7.78 2.81-2.81c.8-.78.8-2.07 0-2.86zM5.41 20L4 18.59l7.72-7.72 1.47 1.35L5.41 20z\"/>\n",
              "  </svg>\n",
              "      </button>\n",
              "      \n",
              "  <style>\n",
              "    .colab-df-container {\n",
              "      display:flex;\n",
              "      flex-wrap:wrap;\n",
              "      gap: 12px;\n",
              "    }\n",
              "\n",
              "    .colab-df-convert {\n",
              "      background-color: #E8F0FE;\n",
              "      border: none;\n",
              "      border-radius: 50%;\n",
              "      cursor: pointer;\n",
              "      display: none;\n",
              "      fill: #1967D2;\n",
              "      height: 32px;\n",
              "      padding: 0 0 0 0;\n",
              "      width: 32px;\n",
              "    }\n",
              "\n",
              "    .colab-df-convert:hover {\n",
              "      background-color: #E2EBFA;\n",
              "      box-shadow: 0px 1px 2px rgba(60, 64, 67, 0.3), 0px 1px 3px 1px rgba(60, 64, 67, 0.15);\n",
              "      fill: #174EA6;\n",
              "    }\n",
              "\n",
              "    [theme=dark] .colab-df-convert {\n",
              "      background-color: #3B4455;\n",
              "      fill: #D2E3FC;\n",
              "    }\n",
              "\n",
              "    [theme=dark] .colab-df-convert:hover {\n",
              "      background-color: #434B5C;\n",
              "      box-shadow: 0px 1px 3px 1px rgba(0, 0, 0, 0.15);\n",
              "      filter: drop-shadow(0px 1px 2px rgba(0, 0, 0, 0.3));\n",
              "      fill: #FFFFFF;\n",
              "    }\n",
              "  </style>\n",
              "\n",
              "      <script>\n",
              "        const buttonEl =\n",
              "          document.querySelector('#df-f6fac54f-d0ad-4366-b2e8-85abe5708dff button.colab-df-convert');\n",
              "        buttonEl.style.display =\n",
              "          google.colab.kernel.accessAllowed ? 'block' : 'none';\n",
              "\n",
              "        async function convertToInteractive(key) {\n",
              "          const element = document.querySelector('#df-f6fac54f-d0ad-4366-b2e8-85abe5708dff');\n",
              "          const dataTable =\n",
              "            await google.colab.kernel.invokeFunction('convertToInteractive',\n",
              "                                                     [key], {});\n",
              "          if (!dataTable) return;\n",
              "\n",
              "          const docLinkHtml = 'Like what you see? Visit the ' +\n",
              "            '<a target=\"_blank\" href=https://colab.research.google.com/notebooks/data_table.ipynb>data table notebook</a>'\n",
              "            + ' to learn more about interactive tables.';\n",
              "          element.innerHTML = '';\n",
              "          dataTable['output_type'] = 'display_data';\n",
              "          await google.colab.output.renderOutput(dataTable, element);\n",
              "          const docLink = document.createElement('div');\n",
              "          docLink.innerHTML = docLinkHtml;\n",
              "          element.appendChild(docLink);\n",
              "        }\n",
              "      </script>\n",
              "    </div>\n",
              "  </div>\n",
              "  "
            ]
          },
          "metadata": {},
          "execution_count": 68
        }
      ],
      "source": [
        "data_grp_3=data[data['labels']==1].groupby(['age']).agg({'labels':'count'}).reset_index()\n",
        "data_grp_3.columns=['age','total_succes']\n",
        "\n",
        "data_grp_4=data.groupby(['age']).agg({'labels':'count'}).reset_index()\n",
        "data_grp_4.columns=['age','total']\n",
        "\n",
        "data_grp_3=data_grp_3.merge(data_grp_4,\n",
        "                           on='age')\n",
        "data_grp_3['succes_rate']=round((data_grp_3['total_succes']/data_grp_3['total'])*100,2)\n",
        "\n",
        "data_grp_3\n"
      ]
    },
    {
      "cell_type": "code",
      "execution_count": null,
      "metadata": {
        "execution": {
          "iopub.execute_input": "2021-03-26T02:19:20.925715Z",
          "iopub.status.busy": "2021-03-26T02:19:20.924557Z",
          "iopub.status.idle": "2021-03-26T02:19:21.264186Z",
          "shell.execute_reply": "2021-03-26T02:19:21.264721Z"
        },
        "papermill": {
          "duration": 0.39333,
          "end_time": "2021-03-26T02:19:21.264925",
          "exception": false,
          "start_time": "2021-03-26T02:19:20.871595",
          "status": "completed"
        },
        "tags": [],
        "colab": {
          "base_uri": "https://localhost:8080/",
          "height": 463
        },
        "id": "xyanxBM5zfIZ",
        "outputId": "99653362-b27f-46d7-bb7f-4a9b03c5ca94"
      },
      "outputs": [
        {
          "output_type": "execute_result",
          "data": {
            "text/plain": [
              "<function matplotlib.pyplot.tight_layout(pad=1.08, h_pad=None, w_pad=None, rect=None)>"
            ]
          },
          "metadata": {},
          "execution_count": 69
        },
        {
          "output_type": "display_data",
          "data": {
            "text/plain": [
              "<Figure size 1080x504 with 1 Axes>"
            ],
            "image/png": "[encoded data removed]"
          },
          "metadata": {
            "needs_background": "light"
          }
        }
      ],
      "source": [
        "fig, ax = plt.subplots(figsize=(15,7))\n",
        "\n",
        "g = sns.barplot(x = 'age',y='succes_rate',data=data_grp_3,ax=ax, \n",
        "               palette=sns.color_palette(\"Blues_d\", n_colors=13, desat=1))\n",
        "\n",
        "x = np.arange(len(data_grp_3))\n",
        "y = data_grp_3['succes_rate']\n",
        "\n",
        "for i, v in enumerate(y):\n",
        "    ax.text(x[i]- 0.1, v+3, str(v)+'%', fontsize = 12, color='gray', fontweight='bold')\n",
        "    \n",
        "title = '''\n",
        "\n",
        "'''\n",
        "ax.text(2.80,30,title,horizontalalignment='left',color='black',fontsize=12,fontweight='bold')\n",
        "    \n",
        "\n",
        "text = '''\n",
        "\n",
        "'''\n",
        "ax.text(0.5,50,text,horizontalalignment='left',color='black',fontsize=16,fontweight='normal')\n",
        "    \n",
        "ax.set_ylim(0,100)\n",
        "\n",
        "ax.set_xticklabels(ax.get_xticklabels(),rotation=0);\n",
        "plt.tight_layout"
      ]
    },
    {
      "cell_type": "markdown",
      "metadata": {
        "papermill": {
          "duration": 0.041787,
          "end_time": "2021-03-26T02:19:21.349170",
          "exception": false,
          "start_time": "2021-03-26T02:19:21.307383",
          "status": "completed"
        },
        "tags": [],
        "id": "DK7z-R_IzfIZ"
      },
      "source": [
        "1. Business insight from age : startups that have lifespan of more than 4 years have a tendency to be successful startup (more than 52%)"
      ]
    },
    {
      "cell_type": "code",
      "execution_count": null,
      "metadata": {
        "execution": {
          "iopub.execute_input": "2021-03-26T02:19:21.461907Z",
          "iopub.status.busy": "2021-03-26T02:19:21.450788Z",
          "iopub.status.idle": "2021-03-26T02:19:21.467559Z",
          "shell.execute_reply": "2021-03-26T02:19:21.466889Z"
        },
        "papermill": {
          "duration": 0.076604,
          "end_time": "2021-03-26T02:19:21.467705",
          "exception": false,
          "start_time": "2021-03-26T02:19:21.391101",
          "status": "completed"
        },
        "tags": [],
        "colab": {
          "base_uri": "https://localhost:8080/",
          "height": 300
        },
        "id": "zZX68Jp5zfIZ",
        "outputId": "a09e4259-90b0-481e-dea8-042ce9f34e9e"
      },
      "outputs": [
        {
          "output_type": "execute_result",
          "data": {
            "text/plain": [
              "   milestones  total_succes  total  succes_rate\n",
              "0           0            46    143        32.17\n",
              "1           1           140    230        60.87\n",
              "2           2           160    217        73.73\n",
              "3           3           135    164        82.32\n",
              "4           4            43     54        79.63\n",
              "5           5            22     24        91.67\n",
              "6           6             3      4        75.00\n",
              "7           8             1      1       100.00"
            ],
            "text/html": [
              "\n",
              "  <div id=\"df-89936efa-e909-4f98-8197-8416236f8841\">\n",
              "    <div class=\"colab-df-container\">\n",
              "      <div>\n",
              "<style scoped>\n",
              "    .dataframe tbody tr th:only-of-type {\n",
              "        vertical-align: middle;\n",
              "    }\n",
              "\n",
              "    .dataframe tbody tr th {\n",
              "        vertical-align: top;\n",
              "    }\n",
              "\n",
              "    .dataframe thead th {\n",
              "        text-align: right;\n",
              "    }\n",
              "</style>\n",
              "<table border=\"1\" class=\"dataframe\">\n",
              "  <thead>\n",
              "    <tr style=\"text-align: right;\">\n",
              "      <th></th>\n",
              "      <th>milestones</th>\n",
              "      <th>total_succes</th>\n",
              "      <th>total</th>\n",
              "      <th>succes_rate</th>\n",
              "    </tr>\n",
              "  </thead>\n",
              "  <tbody>\n",
              "    <tr>\n",
              "      <th>0</th>\n",
              "      <td>0</td>\n",
              "      <td>46</td>\n",
              "      <td>143</td>\n",
              "      <td>32.17</td>\n",
              "    </tr>\n",
              "    <tr>\n",
              "      <th>1</th>\n",
              "      <td>1</td>\n",
              "      <td>140</td>\n",
              "      <td>230</td>\n",
              "      <td>60.87</td>\n",
              "    </tr>\n",
              "    <tr>\n",
              "      <th>2</th>\n",
              "      <td>2</td>\n",
              "      <td>160</td>\n",
              "      <td>217</td>\n",
              "      <td>73.73</td>\n",
              "    </tr>\n",
              "    <tr>\n",
              "      <th>3</th>\n",
              "      <td>3</td>\n",
              "      <td>135</td>\n",
              "      <td>164</td>\n",
              "      <td>82.32</td>\n",
              "    </tr>\n",
              "    <tr>\n",
              "      <th>4</th>\n",
              "      <td>4</td>\n",
              "      <td>43</td>\n",
              "      <td>54</td>\n",
              "      <td>79.63</td>\n",
              "    </tr>\n",
              "    <tr>\n",
              "      <th>5</th>\n",
              "      <td>5</td>\n",
              "      <td>22</td>\n",
              "      <td>24</td>\n",
              "      <td>91.67</td>\n",
              "    </tr>\n",
              "    <tr>\n",
              "      <th>6</th>\n",
              "      <td>6</td>\n",
              "      <td>3</td>\n",
              "      <td>4</td>\n",
              "      <td>75.00</td>\n",
              "    </tr>\n",
              "    <tr>\n",
              "      <th>7</th>\n",
              "      <td>8</td>\n",
              "      <td>1</td>\n",
              "      <td>1</td>\n",
              "      <td>100.00</td>\n",
              "    </tr>\n",
              "  </tbody>\n",
              "</table>\n",
              "</div>\n",
              "      <button class=\"colab-df-convert\" onclick=\"convertToInteractive('df-89936efa-e909-4f98-8197-8416236f8841')\"\n",
              "              title=\"Convert this dataframe to an interactive table.\"\n",
              "              style=\"display:none;\">\n",
              "        \n",
              "  <svg xmlns=\"http://www.w3.org/2000/svg\" height=\"24px\"viewBox=\"0 0 24 24\"\n",
              "       width=\"24px\">\n",
              "    <path d=\"M0 0h24v24H0V0z\" fill=\"none\"/>\n",
              "    <path d=\"M18.56 5.44l.94 2.06.94-2.06 2.06-.94-2.06-.94-.94-2.06-.94 2.06-2.06.94zm-11 1L8.5 8.5l.94-2.06 2.06-.94-2.06-.94L8.5 2.5l-.94 2.06-2.06.94zm10 10l.94 2.06.94-2.06 2.06-.94-2.06-.94-.94-2.06-.94 2.06-2.06.94z\"/><path d=\"M17.41 7.96l-1.37-1.37c-.4-.4-.92-.59-1.43-.59-.52 0-1.04.2-1.43.59L10.3 9.45l-7.72 7.72c-.78.78-.78 2.05 0 2.83L4 21.41c.39.39.9.59 1.41.59.51 0 1.02-.2 1.41-.59l7.78-7.78 2.81-2.81c.8-.78.8-2.07 0-2.86zM5.41 20L4 18.59l7.72-7.72 1.47 1.35L5.41 20z\"/>\n",
              "  </svg>\n",
              "      </button>\n",
              "      \n",
              "  <style>\n",
              "    .colab-df-container {\n",
              "      display:flex;\n",
              "      flex-wrap:wrap;\n",
              "      gap: 12px;\n",
              "    }\n",
              "\n",
              "    .colab-df-convert {\n",
              "      background-color: #E8F0FE;\n",
              "      border: none;\n",
              "      border-radius: 50%;\n",
              "      cursor: pointer;\n",
              "      display: none;\n",
              "      fill: #1967D2;\n",
              "      height: 32px;\n",
              "      padding: 0 0 0 0;\n",
              "      width: 32px;\n",
              "    }\n",
              "\n",
              "    .colab-df-convert:hover {\n",
              "      background-color: #E2EBFA;\n",
              "      box-shadow: 0px 1px 2px rgba(60, 64, 67, 0.3), 0px 1px 3px 1px rgba(60, 64, 67, 0.15);\n",
              "      fill: #174EA6;\n",
              "    }\n",
              "\n",
              "    [theme=dark] .colab-df-convert {\n",
              "      background-color: #3B4455;\n",
              "      fill: #D2E3FC;\n",
              "    }\n",
              "\n",
              "    [theme=dark] .colab-df-convert:hover {\n",
              "      background-color: #434B5C;\n",
              "      box-shadow: 0px 1px 3px 1px rgba(0, 0, 0, 0.15);\n",
              "      filter: drop-shadow(0px 1px 2px rgba(0, 0, 0, 0.3));\n",
              "      fill: #FFFFFF;\n",
              "    }\n",
              "  </style>\n",
              "\n",
              "      <script>\n",
              "        const buttonEl =\n",
              "          document.querySelector('#df-89936efa-e909-4f98-8197-8416236f8841 button.colab-df-convert');\n",
              "        buttonEl.style.display =\n",
              "          google.colab.kernel.accessAllowed ? 'block' : 'none';\n",
              "\n",
              "        async function convertToInteractive(key) {\n",
              "          const element = document.querySelector('#df-89936efa-e909-4f98-8197-8416236f8841');\n",
              "          const dataTable =\n",
              "            await google.colab.kernel.invokeFunction('convertToInteractive',\n",
              "                                                     [key], {});\n",
              "          if (!dataTable) return;\n",
              "\n",
              "          const docLinkHtml = 'Like what you see? Visit the ' +\n",
              "            '<a target=\"_blank\" href=https://colab.research.google.com/notebooks/data_table.ipynb>data table notebook</a>'\n",
              "            + ' to learn more about interactive tables.';\n",
              "          element.innerHTML = '';\n",
              "          dataTable['output_type'] = 'display_data';\n",
              "          await google.colab.output.renderOutput(dataTable, element);\n",
              "          const docLink = document.createElement('div');\n",
              "          docLink.innerHTML = docLinkHtml;\n",
              "          element.appendChild(docLink);\n",
              "        }\n",
              "      </script>\n",
              "    </div>\n",
              "  </div>\n",
              "  "
            ]
          },
          "metadata": {},
          "execution_count": 70
        }
      ],
      "source": [
        "data_grp_5=data[data['labels']==1].groupby(['milestones']).agg({'labels':'count'}).reset_index()\n",
        "data_grp_5.columns=['milestones','total_succes']\n",
        "\n",
        "data_grp_6=data.groupby(['milestones']).agg({'labels':'count'}).reset_index()\n",
        "data_grp_6.columns=['milestones','total']\n",
        "\n",
        "data_grp_5=data_grp_5.merge(data_grp_6,\n",
        "                           on='milestones')\n",
        "data_grp_5['succes_rate']=round((data_grp_5['total_succes']/data_grp_5['total'])*100,2)\n",
        "\n",
        "data_grp_5"
      ]
    },
    {
      "cell_type": "code",
      "execution_count": null,
      "metadata": {
        "execution": {
          "iopub.execute_input": "2021-03-26T02:19:21.583750Z",
          "iopub.status.busy": "2021-03-26T02:19:21.564259Z",
          "iopub.status.idle": "2021-03-26T02:19:21.803663Z",
          "shell.execute_reply": "2021-03-26T02:19:21.802904Z"
        },
        "papermill": {
          "duration": 0.292997,
          "end_time": "2021-03-26T02:19:21.803833",
          "exception": false,
          "start_time": "2021-03-26T02:19:21.510836",
          "status": "completed"
        },
        "tags": [],
        "colab": {
          "base_uri": "https://localhost:8080/",
          "height": 481
        },
        "id": "xTxnidNfzfIZ",
        "outputId": "ab457da7-8b6a-49e3-d564-adb5f8886e45"
      },
      "outputs": [
        {
          "output_type": "execute_result",
          "data": {
            "text/plain": [
              "<function matplotlib.pyplot.tight_layout(pad=1.08, h_pad=None, w_pad=None, rect=None)>"
            ]
          },
          "metadata": {},
          "execution_count": 71
        },
        {
          "output_type": "display_data",
          "data": {
            "text/plain": [
              "<Figure size 1080x504 with 1 Axes>"
            ],
            "image/png": "[encoded data removed]"
          },
          "metadata": {
            "needs_background": "light"
          }
        }
      ],
      "source": [
        "fig, ax = plt.subplots(figsize=(15,7))\n",
        "\n",
        "g = sns.barplot(x = 'milestones',y='succes_rate',data=data_grp_5,ax=ax, \n",
        "               palette=sns.color_palette(\"Blues_d\", n_colors=13, desat=1))\n",
        "\n",
        "x = np.arange(len(data_grp_5))\n",
        "y = data_grp_5['succes_rate']\n",
        "\n",
        "for i, v in enumerate(y):\n",
        "    ax.text(x[i]- 0.1, v+3, str(v)+'%', fontsize = 12, color='gray', fontweight='bold')\n",
        "    \n",
        "title = '''\n",
        "\n",
        "'''\n",
        "ax.text(2.80,30,title,horizontalalignment='left',color='black',fontsize=12,fontweight='bold')\n",
        "    \n",
        "\n",
        "text = '''\n",
        "\n",
        "'''\n",
        "ax.text(0.5,50,text,horizontalalignment='left',color='black',fontsize=16,fontweight='normal')\n",
        "    \n",
        "ax.set_ylim(0,100)\n",
        "\n",
        "ax.set_xticklabels(ax.get_xticklabels(),rotation=0)\n",
        "plt.tight_layout"
      ]
    },
    {
      "cell_type": "markdown",
      "metadata": {
        "papermill": {
          "duration": 0.046362,
          "end_time": "2021-03-26T02:19:21.895081",
          "exception": false,
          "start_time": "2021-03-26T02:19:21.848719",
          "status": "completed"
        },
        "tags": [],
        "id": "-uigEA9wzfIZ"
      },
      "source": [
        "2. Business insight from milestone : Startups that have min 1 milestone has potential to be successful startup (more than 60%)"
      ]
    },
    {
      "cell_type": "code",
      "execution_count": null,
      "metadata": {
        "execution": {
          "iopub.execute_input": "2021-03-26T02:19:22.000316Z",
          "iopub.status.busy": "2021-03-26T02:19:21.999051Z",
          "iopub.status.idle": "2021-03-26T02:19:22.039042Z",
          "shell.execute_reply": "2021-03-26T02:19:22.038004Z"
        },
        "papermill": {
          "duration": 0.09881,
          "end_time": "2021-03-26T02:19:22.039245",
          "exception": false,
          "start_time": "2021-03-26T02:19:21.940435",
          "status": "completed"
        },
        "tags": [],
        "colab": {
          "base_uri": "https://localhost:8080/",
          "height": 143
        },
        "id": "bM2T-CJ1zfIa",
        "outputId": "008b4564-a7b5-419e-e48f-27662bd58c26"
      },
      "outputs": [
        {
          "output_type": "execute_result",
          "data": {
            "text/plain": [
              "  Relationships Range  Closed  Acquired  Total Company  Success Rate\n",
              "0      relationship 0      33         3             36          8.33\n",
              "1  relationships 1-10     233       371            604         61.42\n",
              "2   relationships >10      21       176            197         89.34"
            ],
            "text/html": [
              "\n",
              "  <div id=\"df-3eee90c8-f685-4253-9f8d-333faab2581c\">\n",
              "    <div class=\"colab-df-container\">\n",
              "      <div>\n",
              "<style scoped>\n",
              "    .dataframe tbody tr th:only-of-type {\n",
              "        vertical-align: middle;\n",
              "    }\n",
              "\n",
              "    .dataframe tbody tr th {\n",
              "        vertical-align: top;\n",
              "    }\n",
              "\n",
              "    .dataframe thead th {\n",
              "        text-align: right;\n",
              "    }\n",
              "</style>\n",
              "<table border=\"1\" class=\"dataframe\">\n",
              "  <thead>\n",
              "    <tr style=\"text-align: right;\">\n",
              "      <th></th>\n",
              "      <th>Relationships Range</th>\n",
              "      <th>Closed</th>\n",
              "      <th>Acquired</th>\n",
              "      <th>Total Company</th>\n",
              "      <th>Success Rate</th>\n",
              "    </tr>\n",
              "  </thead>\n",
              "  <tbody>\n",
              "    <tr>\n",
              "      <th>0</th>\n",
              "      <td>relationship 0</td>\n",
              "      <td>33</td>\n",
              "      <td>3</td>\n",
              "      <td>36</td>\n",
              "      <td>8.33</td>\n",
              "    </tr>\n",
              "    <tr>\n",
              "      <th>1</th>\n",
              "      <td>relationships 1-10</td>\n",
              "      <td>233</td>\n",
              "      <td>371</td>\n",
              "      <td>604</td>\n",
              "      <td>61.42</td>\n",
              "    </tr>\n",
              "    <tr>\n",
              "      <th>2</th>\n",
              "      <td>relationships &gt;10</td>\n",
              "      <td>21</td>\n",
              "      <td>176</td>\n",
              "      <td>197</td>\n",
              "      <td>89.34</td>\n",
              "    </tr>\n",
              "  </tbody>\n",
              "</table>\n",
              "</div>\n",
              "      <button class=\"colab-df-convert\" onclick=\"convertToInteractive('df-3eee90c8-f685-4253-9f8d-333faab2581c')\"\n",
              "              title=\"Convert this dataframe to an interactive table.\"\n",
              "              style=\"display:none;\">\n",
              "        \n",
              "  <svg xmlns=\"http://www.w3.org/2000/svg\" height=\"24px\"viewBox=\"0 0 24 24\"\n",
              "       width=\"24px\">\n",
              "    <path d=\"M0 0h24v24H0V0z\" fill=\"none\"/>\n",
              "    <path d=\"M18.56 5.44l.94 2.06.94-2.06 2.06-.94-2.06-.94-.94-2.06-.94 2.06-2.06.94zm-11 1L8.5 8.5l.94-2.06 2.06-.94-2.06-.94L8.5 2.5l-.94 2.06-2.06.94zm10 10l.94 2.06.94-2.06 2.06-.94-2.06-.94-.94-2.06-.94 2.06-2.06.94z\"/><path d=\"M17.41 7.96l-1.37-1.37c-.4-.4-.92-.59-1.43-.59-.52 0-1.04.2-1.43.59L10.3 9.45l-7.72 7.72c-.78.78-.78 2.05 0 2.83L4 21.41c.39.39.9.59 1.41.59.51 0 1.02-.2 1.41-.59l7.78-7.78 2.81-2.81c.8-.78.8-2.07 0-2.86zM5.41 20L4 18.59l7.72-7.72 1.47 1.35L5.41 20z\"/>\n",
              "  </svg>\n",
              "      </button>\n",
              "      \n",
              "  <style>\n",
              "    .colab-df-container {\n",
              "      display:flex;\n",
              "      flex-wrap:wrap;\n",
              "      gap: 12px;\n",
              "    }\n",
              "\n",
              "    .colab-df-convert {\n",
              "      background-color: #E8F0FE;\n",
              "      border: none;\n",
              "      border-radius: 50%;\n",
              "      cursor: pointer;\n",
              "      display: none;\n",
              "      fill: #1967D2;\n",
              "      height: 32px;\n",
              "      padding: 0 0 0 0;\n",
              "      width: 32px;\n",
              "    }\n",
              "\n",
              "    .colab-df-convert:hover {\n",
              "      background-color: #E2EBFA;\n",
              "      box-shadow: 0px 1px 2px rgba(60, 64, 67, 0.3), 0px 1px 3px 1px rgba(60, 64, 67, 0.15);\n",
              "      fill: #174EA6;\n",
              "    }\n",
              "\n",
              "    [theme=dark] .colab-df-convert {\n",
              "      background-color: #3B4455;\n",
              "      fill: #D2E3FC;\n",
              "    }\n",
              "\n",
              "    [theme=dark] .colab-df-convert:hover {\n",
              "      background-color: #434B5C;\n",
              "      box-shadow: 0px 1px 3px 1px rgba(0, 0, 0, 0.15);\n",
              "      filter: drop-shadow(0px 1px 2px rgba(0, 0, 0, 0.3));\n",
              "      fill: #FFFFFF;\n",
              "    }\n",
              "  </style>\n",
              "\n",
              "      <script>\n",
              "        const buttonEl =\n",
              "          document.querySelector('#df-3eee90c8-f685-4253-9f8d-333faab2581c button.colab-df-convert');\n",
              "        buttonEl.style.display =\n",
              "          google.colab.kernel.accessAllowed ? 'block' : 'none';\n",
              "\n",
              "        async function convertToInteractive(key) {\n",
              "          const element = document.querySelector('#df-3eee90c8-f685-4253-9f8d-333faab2581c');\n",
              "          const dataTable =\n",
              "            await google.colab.kernel.invokeFunction('convertToInteractive',\n",
              "                                                     [key], {});\n",
              "          if (!dataTable) return;\n",
              "\n",
              "          const docLinkHtml = 'Like what you see? Visit the ' +\n",
              "            '<a target=\"_blank\" href=https://colab.research.google.com/notebooks/data_table.ipynb>data table notebook</a>'\n",
              "            + ' to learn more about interactive tables.';\n",
              "          element.innerHTML = '';\n",
              "          dataTable['output_type'] = 'display_data';\n",
              "          await google.colab.output.renderOutput(dataTable, element);\n",
              "          const docLink = document.createElement('div');\n",
              "          docLink.innerHTML = docLinkHtml;\n",
              "          element.appendChild(docLink);\n",
              "        }\n",
              "      </script>\n",
              "    </div>\n",
              "  </div>\n",
              "  "
            ]
          },
          "metadata": {},
          "execution_count": 72
        }
      ],
      "source": [
        "data['Relationships Range'] = data['relationships'].apply(lambda x : 'relationship 0' if x==0 else 'relationships >10' if x>10 else 'relationships 1-10' )\n",
        "data20 = data.groupby(['Relationships Range', 'labels']).agg({'id' : 'count'}).reset_index()\n",
        "data20_pv = pd.pivot_table(data20,\n",
        "                          index=['Relationships Range'],\n",
        "                          columns=['labels'],\n",
        "                          values=['id']).reset_index()\n",
        "data20_pv.columns = ['Relationships Range', 'Closed', 'Acquired']\n",
        "data20_pv['Total Company'] = data20_pv['Closed']+data20_pv['Acquired']\n",
        "data20_pv['Success Rate'] = round(data20_pv['Acquired']/data20_pv['Total Company']*100,2)\n",
        "data20_pv\n"
      ]
    },
    {
      "cell_type": "code",
      "execution_count": null,
      "metadata": {
        "execution": {
          "iopub.execute_input": "2021-03-26T02:19:22.163427Z",
          "iopub.status.busy": "2021-03-26T02:19:22.156309Z",
          "iopub.status.idle": "2021-03-26T02:19:22.290660Z",
          "shell.execute_reply": "2021-03-26T02:19:22.289890Z"
        },
        "papermill": {
          "duration": 0.204874,
          "end_time": "2021-03-26T02:19:22.290839",
          "exception": false,
          "start_time": "2021-03-26T02:19:22.085965",
          "status": "completed"
        },
        "tags": [],
        "colab": {
          "base_uri": "https://localhost:8080/",
          "height": 398
        },
        "id": "hzQPqNWvzfIa",
        "outputId": "801193a7-d924-4e11-8629-effc5d06039e"
      },
      "outputs": [
        {
          "output_type": "display_data",
          "data": {
            "text/plain": [
              "<Figure size 576x432 with 1 Axes>"
            ],
            "image/png": "[encoded data removed]"
          },
          "metadata": {
            "needs_background": "light"
          }
        }
      ],
      "source": [
        "fig, ax = plt.subplots(figsize=(8,6))\n",
        "\n",
        "g = sns.barplot(x = 'Relationships Range',y='Success Rate',data=data20_pv,ax=ax, \n",
        "               palette=sns.color_palette(\"Blues_d\", n_colors=13, desat=1))\n",
        "\n",
        "x = np.arange(len(data20_pv['Relationships Range']))\n",
        "y = data20_pv['Success Rate']\n",
        "\n",
        "for i, v in enumerate(y):\n",
        "    ax.text(x[i]- 0.1, v+3, str(v)+'%', fontsize = 20, color='gray', fontweight='bold')\n",
        "  \n",
        "ax.set_xticklabels(ax.get_xticklabels(),rotation=0);"
      ]
    },
    {
      "cell_type": "markdown",
      "metadata": {
        "papermill": {
          "duration": 0.046736,
          "end_time": "2021-03-26T02:19:22.384704",
          "exception": false,
          "start_time": "2021-03-26T02:19:22.337968",
          "status": "completed"
        },
        "tags": [],
        "id": "_tWkXRXezfIa"
      },
      "source": [
        "3. Business insigt from relationship: startups with relationships more than 1 has potential to be successful startup (more than 61%)"
      ]
    },
    {
      "cell_type": "markdown",
      "metadata": {
        "papermill": {
          "duration": 0.047771,
          "end_time": "2021-03-26T02:19:22.479241",
          "exception": false,
          "start_time": "2021-03-26T02:19:22.431470",
          "status": "completed"
        },
        "tags": [],
        "id": "4T1PtWXizfIa"
      },
      "source": [
        "# **Training and Test Data**"
      ]
    },
    {
      "cell_type": "code",
      "source": [
        "# Split Feature Vector and Label\n",
        "X = data[['norm_relationships', 'norm_age_first_funding_year','norm_funding_total_usd',\n",
        "          \n",
        "          'age_last_funding_year',\n",
        "          'age_first_milestone_year', 'age_last_milestone_year', \n",
        "          'funding_rounds', 'milestones','age',\n",
        "\n",
        "          'is_CA', 'is_NY', 'is_MA', 'is_TX', 'is_otherstate', \n",
        "          'is_software', 'is_web', 'is_mobile', 'is_enterprise', 'is_advertising', 'is_gamesvideo', \n",
        "          'is_ecommerce', 'is_biotech', 'is_consulting','is_othercategory', \n",
        "          'has_VC', 'has_angel', 'has_roundA','has_roundB', 'has_roundC', 'has_roundD', \n",
        "          'avg_participants','is_top500'\n",
        "          ]]\n",
        "y = data['labels'] # target / label\n",
        "\n",
        "#Splitting the data into Train and Test\n",
        "X_train, X_test,y_train,y_test = train_test_split(X,\n",
        "                                                y,\n",
        "                                                test_size = 0.3,\n",
        "                                                random_state = 42)"
      ],
      "metadata": {
        "id": "J9fkdxRs9H5J"
      },
      "execution_count": null,
      "outputs": []
    },
    {
      "cell_type": "code",
      "source": [
        "print(\"Before Resampling in Train Data :\")\n",
        "print(y_train.value_counts())\n",
        "\n",
        "print(\"Before Sampling in Test Data: \")\n",
        "print(y_test.value_counts())\n",
        "\n"
      ],
      "metadata": {
        "colab": {
          "base_uri": "https://localhost:8080/"
        },
        "id": "FJ-rLEGh9NBo",
        "outputId": "927b289a-0f51-4f5f-9428-50d010642cc2"
      },
      "execution_count": null,
      "outputs": [
        {
          "output_type": "stream",
          "name": "stdout",
          "text": [
            "Before Resampling in Train Data :\n",
            "1    395\n",
            "0    190\n",
            "Name: labels, dtype: int64\n",
            "Before Sampling in Test Data: \n",
            "1    155\n",
            "0     97\n",
            "Name: labels, dtype: int64\n"
          ]
        }
      ]
    },
    {
      "cell_type": "code",
      "source": [
        "X_train_up, y_train_up = over_sampling.RandomOverSampler(random_state=42).fit_resample(X_train, y_train)"
      ],
      "metadata": {
        "id": "S04fgcPT914Q"
      },
      "execution_count": null,
      "outputs": []
    },
    {
      "cell_type": "code",
      "source": [
        "print(\"After Resampling :\")\n",
        "print(y_train_up.value_counts())\n",
        "\n",
        "print(\"After Resampling in Test Data\")\n",
        "print(y_test.value_counts())"
      ],
      "metadata": {
        "colab": {
          "base_uri": "https://localhost:8080/"
        },
        "id": "3seLGGFx98c3",
        "outputId": "0bfdbbb7-eb0f-4d90-f1d4-2556d1078728"
      },
      "execution_count": null,
      "outputs": [
        {
          "output_type": "stream",
          "name": "stdout",
          "text": [
            "After Resampling :\n",
            "0    395\n",
            "1    395\n",
            "Name: labels, dtype: int64\n",
            "After Resampling in Test Data\n",
            "1    155\n",
            "0     97\n",
            "Name: labels, dtype: int64\n"
          ]
        }
      ]
    },
    {
      "cell_type": "markdown",
      "source": [
        "# **Naive Bayes Classifier**"
      ],
      "metadata": {
        "id": "ENDRh1-w4azd"
      }
    },
    {
      "cell_type": "code",
      "source": [
        "from sklearn.naive_bayes import GaussianNB\n",
        "nb= GaussianNB()\n",
        "nb.fit(X_train_up, y_train_up)\n",
        "y_predicted_nb = nb.predict(X_test)\n",
        "y_predicted_train_nb = nb.predict(X_train_up)\n",
        "\n",
        "print('\\nconfusion matrix') # generate the confusion matrix\n",
        "print(confusion_matrix(y_test, y_predicted_nb))\n",
        "print('\\naccuracy')\n",
        "print(accuracy_score(y_test, y_predicted_nb))\n",
        "print('\\nclassification report')\n",
        "print(classification_report(y_test, y_predicted_nb)) # generate the precision, recall, f-1 score, num\n",
        "roc_auc_score(y_test, y_predicted_nb)\n",
        "print('AUC Score:',roc_auc_score(y_test, y_predicted_nb))"
      ],
      "metadata": {
        "colab": {
          "base_uri": "https://localhost:8080/"
        },
        "id": "BfxlmWP14Cgk",
        "outputId": "2080dcd1-bac5-4e57-b660-f082a9cf68b9"
      },
      "execution_count": null,
      "outputs": [
        {
          "output_type": "stream",
          "name": "stdout",
          "text": [
            "\n",
            "confusion matrix\n",
            "[[81 16]\n",
            " [61 94]]\n",
            "\n",
            "accuracy\n",
            "0.6944444444444444\n",
            "\n",
            "classification report\n",
            "              precision    recall  f1-score   support\n",
            "\n",
            "           0       0.57      0.84      0.68        97\n",
            "           1       0.85      0.61      0.71       155\n",
            "\n",
            "    accuracy                           0.69       252\n",
            "   macro avg       0.71      0.72      0.69       252\n",
            "weighted avg       0.75      0.69      0.70       252\n",
            "\n",
            "AUC Score: 0.7207515796474893\n"
          ]
        }
      ]
    },
    {
      "cell_type": "code",
      "source": [
        "plt.rcParams['figure.figsize'] = (3, 3)\n",
        "cm_nb= confusion_matrix(y_test, y_predicted_nb)\n",
        "sns.heatmap(cm_nb, annot = True, cmap = 'Blues', fmt = '.8g')\n",
        "plt.xlabel('Predicted Values')\n",
        "plt.ylabel('Actual Values')\n",
        "plt.show()"
      ],
      "metadata": {
        "colab": {
          "base_uri": "https://localhost:8080/",
          "height": 225
        },
        "id": "7pbTRFpI3-HT",
        "outputId": "03e0c81a-85d7-4902-a01c-b5533987a494"
      },
      "execution_count": null,
      "outputs": [
        {
          "output_type": "display_data",
          "data": {
            "text/plain": [
              "<Figure size 216x216 with 2 Axes>"
            ],
            "image/png": "[encoded data removed]"
          },
          "metadata": {
            "needs_background": "light"
          }
        }
      ]
    },
    {
      "cell_type": "markdown",
      "source": [
        "# **Random Forest Classifier**"
      ],
      "metadata": {
        "id": "6R6rJpCW6Dop"
      }
    },
    {
      "cell_type": "code",
      "source": [
        "from sklearn.ensemble import RandomForestClassifier\n",
        "rf= RandomForestClassifier(max_depth=10000)\n",
        "rf.fit(X_train_up, y_train_up)\n",
        "y_predicted_rf = rf.predict(X_test)\n",
        "y_predicted_train_rf = rf.predict(X_train_up)\n",
        "\n",
        "print('\\nconfusion matrix') # generate the confusion matrix\n",
        "print(confusion_matrix(y_test, y_predicted_rf))\n",
        "print('\\naccuracy')\n",
        "print(accuracy_score(y_test, y_predicted_rf))\n",
        "print('\\nclassification report')\n",
        "print(classification_report(y_test, y_predicted_rf)) # generate the precision, recall, f-1 score, num\n",
        "roc_auc_score(y_test, y_predicted_rf)\n",
        "print('AUC Score:',roc_auc_score(y_test, y_predicted_rf))"
      ],
      "metadata": {
        "colab": {
          "base_uri": "https://localhost:8080/"
        },
        "id": "dCUd88Kh5iMj",
        "outputId": "f5c11279-665b-4b63-84c3-938165ece4c0"
      },
      "execution_count": null,
      "outputs": [
        {
          "output_type": "stream",
          "name": "stdout",
          "text": [
            "\n",
            "confusion matrix\n",
            "[[ 66  31]\n",
            " [ 15 140]]\n",
            "\n",
            "accuracy\n",
            "0.8174603174603174\n",
            "\n",
            "classification report\n",
            "              precision    recall  f1-score   support\n",
            "\n",
            "           0       0.81      0.68      0.74        97\n",
            "           1       0.82      0.90      0.86       155\n",
            "\n",
            "    accuracy                           0.82       252\n",
            "   macro avg       0.82      0.79      0.80       252\n",
            "weighted avg       0.82      0.82      0.81       252\n",
            "\n",
            "AUC Score: 0.7918190887928167\n"
          ]
        }
      ]
    },
    {
      "cell_type": "code",
      "source": [
        "plt.rcParams['figure.figsize'] = (3, 3)\n",
        "cm_rf= confusion_matrix(y_test, y_predicted_rf)\n",
        "sns.heatmap(cm_rf, annot = True, cmap = 'Blues', fmt = '.8g')\n",
        "plt.xlabel('Predicted Values')\n",
        "plt.ylabel('Actual Values')\n",
        "plt.show()"
      ],
      "metadata": {
        "colab": {
          "base_uri": "https://localhost:8080/",
          "height": 229
        },
        "id": "mnbKc42Q4t8D",
        "outputId": "4405eff7-ede9-4972-eadd-a5e9738bc3b1"
      },
      "execution_count": null,
      "outputs": [
        {
          "output_type": "display_data",
          "data": {
            "text/plain": [
              "<Figure size 216x216 with 2 Axes>"
            ],
            "image/png": "[encoded data removed]"
          },
          "metadata": {
            "needs_background": "light"
          }
        }
      ]
    },
    {
      "cell_type": "markdown",
      "source": [
        "# **Decision Tree Classifier**"
      ],
      "metadata": {
        "id": "aLgyqS-T6SJK"
      }
    },
    {
      "cell_type": "code",
      "source": [
        "from sklearn.tree import DecisionTreeClassifier\n",
        "dt= DecisionTreeClassifier(class_weight='balanced',max_depth=10000)\n",
        "dt.fit(X_train_up, y_train_up)\n",
        "y_predicted_dt = dt.predict(X_test)\n",
        "y_predicted_train_dt = dt.predict(X_train_up)\n",
        "\n",
        "print('\\nconfusion matrix') # generate the confusion matrix\n",
        "print(confusion_matrix(y_test, y_predicted_dt))\n",
        "print('\\naccuracy')\n",
        "print(accuracy_score(y_test, y_predicted_dt))\n",
        "print('\\nclassification report')\n",
        "print(classification_report(y_test, y_predicted_dt)) # generate the precision, recall, f-1 score, num\n",
        "roc_auc_score(y_test, y_predicted_dt)\n",
        "print('AUC Score:',roc_auc_score(y_test, y_predicted_dt))"
      ],
      "metadata": {
        "colab": {
          "base_uri": "https://localhost:8080/"
        },
        "id": "knCdCRID5_7B",
        "outputId": "6061d8bd-0838-4772-c141-40f4b04b78f8"
      },
      "execution_count": null,
      "outputs": [
        {
          "output_type": "stream",
          "name": "stdout",
          "text": [
            "\n",
            "confusion matrix\n",
            "[[ 66  31]\n",
            " [ 31 124]]\n",
            "\n",
            "accuracy\n",
            "0.753968253968254\n",
            "\n",
            "classification report\n",
            "              precision    recall  f1-score   support\n",
            "\n",
            "           0       0.68      0.68      0.68        97\n",
            "           1       0.80      0.80      0.80       155\n",
            "\n",
            "    accuracy                           0.75       252\n",
            "   macro avg       0.74      0.74      0.74       252\n",
            "weighted avg       0.75      0.75      0.75       252\n",
            "\n",
            "AUC Score: 0.7402061855670103\n"
          ]
        }
      ]
    },
    {
      "cell_type": "code",
      "source": [
        "plt.rcParams['figure.figsize'] = (3, 3)\n",
        "cm_dt= confusion_matrix(y_test, y_predicted_dt)\n",
        "sns.heatmap(cm_dt, annot = True, cmap = 'Blues', fmt = '.8g')\n",
        "plt.xlabel('Predicted Values')\n",
        "plt.ylabel('Actual Values')\n",
        "plt.show()"
      ],
      "metadata": {
        "colab": {
          "base_uri": "https://localhost:8080/",
          "height": 225
        },
        "id": "l8ihNRrE36-e",
        "outputId": "d16b8dd8-ddf5-4104-a022-e4c2e505d922"
      },
      "execution_count": null,
      "outputs": [
        {
          "output_type": "display_data",
          "data": {
            "text/plain": [
              "<Figure size 216x216 with 2 Axes>"
            ],
            "image/png": "[encoded data removed]"
          },
          "metadata": {
            "needs_background": "light"
          }
        }
      ]
    },
    {
      "cell_type": "markdown",
      "source": [
        "# **Extreme Gradient Boost**"
      ],
      "metadata": {
        "id": "yDs_ZIa-676C"
      }
    },
    {
      "cell_type": "code",
      "source": [
        "import xgboost\n",
        "xg= xgboost.XGBClassifier()\n",
        "xg.fit(X_train_up, y_train_up)\n",
        "y_predicted_xg = xg.predict(X_test)\n",
        "y_predicted_train_xg = xg.predict(X_train_up)\n",
        "\n",
        "print('\\nconfusion matrix') # generate the confusion matrix\n",
        "print(confusion_matrix(y_test, y_predicted_xg))\n",
        "print('\\naccuracy')\n",
        "print(accuracy_score(y_test, y_predicted_xg))\n",
        "print('\\nclassification report')\n",
        "print(classification_report(y_test, y_predicted_xg)) # generate the precision, recall, f-1 score, num\n",
        "roc_auc_score(y_test, y_predicted_xg)\n",
        "print('AUC Score:',roc_auc_score(y_test, y_predicted_xg))"
      ],
      "metadata": {
        "colab": {
          "base_uri": "https://localhost:8080/"
        },
        "id": "o3XOlSCM67lw",
        "outputId": "d6f7f1ee-7dad-4420-9a43-b7d02da61611"
      },
      "execution_count": null,
      "outputs": [
        {
          "output_type": "stream",
          "name": "stdout",
          "text": [
            "\n",
            "confusion matrix\n",
            "[[ 74  23]\n",
            " [ 19 136]]\n",
            "\n",
            "accuracy\n",
            "0.8333333333333334\n",
            "\n",
            "classification report\n",
            "              precision    recall  f1-score   support\n",
            "\n",
            "           0       0.80      0.76      0.78        97\n",
            "           1       0.86      0.88      0.87       155\n",
            "\n",
            "    accuracy                           0.83       252\n",
            "   macro avg       0.83      0.82      0.82       252\n",
            "weighted avg       0.83      0.83      0.83       252\n",
            "\n",
            "AUC Score: 0.820152976388427\n"
          ]
        }
      ]
    },
    {
      "cell_type": "code",
      "source": [
        "plt.rcParams['figure.figsize'] = (3, 3)\n",
        "cm_xg= confusion_matrix(y_test, y_predicted_xg)\n",
        "sns.heatmap(cm_xg, annot = True, cmap = 'Blues', fmt = '.8g')\n",
        "plt.xlabel('Predicted Values')\n",
        "plt.ylabel('Actual Values')\n",
        "plt.show()"
      ],
      "metadata": {
        "colab": {
          "base_uri": "https://localhost:8080/",
          "height": 225
        },
        "id": "p79isBK049jL",
        "outputId": "3ec12948-ab19-455a-f0d8-6fa8114a058c"
      },
      "execution_count": null,
      "outputs": [
        {
          "output_type": "display_data",
          "data": {
            "text/plain": [
              "<Figure size 216x216 with 2 Axes>"
            ],
            "image/png": "[encoded data removed]"
          },
          "metadata": {
            "needs_background": "light"
          }
        }
      ]
    },
    {
      "cell_type": "markdown",
      "metadata": {
        "papermill": {
          "duration": 0.049062,
          "end_time": "2021-03-26T02:19:22.705702",
          "exception": false,
          "start_time": "2021-03-26T02:19:22.656640",
          "status": "completed"
        },
        "tags": [],
        "id": "fGi4gbx6zfIa"
      },
      "source": [
        "# **Modeling with AdaBoost**"
      ]
    },
    {
      "cell_type": "code",
      "execution_count": null,
      "metadata": {
        "execution": {
          "iopub.execute_input": "2021-03-26T02:19:22.814213Z",
          "iopub.status.busy": "2021-03-26T02:19:22.813199Z",
          "iopub.status.idle": "2021-03-26T02:19:23.150471Z",
          "shell.execute_reply": "2021-03-26T02:19:23.149807Z"
        },
        "papermill": {
          "duration": 0.397657,
          "end_time": "2021-03-26T02:19:23.150654",
          "exception": false,
          "start_time": "2021-03-26T02:19:22.752997",
          "status": "completed"
        },
        "tags": [],
        "colab": {
          "base_uri": "https://localhost:8080/"
        },
        "id": "QeDRfdJSzfIa",
        "outputId": "226cb644-2454-4486-eb0a-381db149481d"
      },
      "outputs": [
        {
          "output_type": "stream",
          "name": "stdout",
          "text": [
            "\n",
            "confusion matrix\n",
            "[[ 78  19]\n",
            " [ 21 134]]\n",
            "\n",
            "accuracy\n",
            "0.8412698412698413\n",
            "\n",
            "classification report\n",
            "              precision    recall  f1-score   support\n",
            "\n",
            "           0       0.79      0.80      0.80        97\n",
            "           1       0.88      0.86      0.87       155\n",
            "\n",
            "    accuracy                           0.84       252\n",
            "   macro avg       0.83      0.83      0.83       252\n",
            "weighted avg       0.84      0.84      0.84       252\n",
            "\n",
            "Train Accuracy: 0.8666666666666667\n",
            "Test Accuracy: 0.8253968253968254\n",
            "AUC Score: 0.8343199201862321\n"
          ]
        }
      ],
      "source": [
        "ab = AdaBoostClassifier(random_state=42)\n",
        "ab.fit(X_train_up, y_train_up)\n",
        "y_predicted = ab.predict(X_test)\n",
        "y_predicted_train = ab.predict(X_train_up)\n",
        "\n",
        "print('\\nconfusion matrix') # generate the confusion matrix\n",
        "print(confusion_matrix(y_test, y_predicted))\n",
        "print('\\naccuracy')\n",
        "print(accuracy_score(y_test, y_predicted))\n",
        "print('\\nclassification report')\n",
        "print(classification_report(y_test, y_predicted)) # generate the precision, recall, f-1 score, num\n",
        "roc_auc_score(y_test, y_predicted)\n",
        "\n",
        "regression = AdaBoostClassifier(random_state=42)\n",
        "regression.fit(X_train, y_train)\n",
        "print(\"Train Accuracy:\",regression.score(X_train, y_train))\n",
        "print(\"Test Accuracy:\",regression.score(X_test, y_test))\n",
        "\n",
        "roc_auc_score(y_test, y_predicted)\n",
        "print('AUC Score:',roc_auc_score(y_test, y_predicted))\n"
      ]
    },
    {
      "cell_type": "code",
      "source": [
        "plt.rcParams['figure.figsize'] = (3, 3)\n",
        "cm_ab= confusion_matrix(y_test, y_predicted)\n",
        "sns.heatmap(cm_ab, annot = True, cmap = 'Blues', fmt = '.8g')\n",
        "plt.xlabel('Predicted Values')\n",
        "plt.ylabel('Actual Values')\n",
        "plt.show()"
      ],
      "metadata": {
        "colab": {
          "base_uri": "https://localhost:8080/",
          "height": 225
        },
        "id": "esPyUZ-v5QNr",
        "outputId": "b9a6da7b-b388-4203-f443-4baef755c3ad"
      },
      "execution_count": null,
      "outputs": [
        {
          "output_type": "display_data",
          "data": {
            "text/plain": [
              "<Figure size 216x216 with 2 Axes>"
            ],
            "image/png": "[encoded data removed]"
          },
          "metadata": {
            "needs_background": "light"
          }
        }
      ]
    },
    {
      "cell_type": "markdown",
      "metadata": {
        "papermill": {
          "duration": 0.046874,
          "end_time": "2021-03-26T02:19:23.245012",
          "exception": false,
          "start_time": "2021-03-26T02:19:23.198138",
          "status": "completed"
        },
        "tags": [],
        "id": "ce09Enn3zfIb"
      },
      "source": [
        "# **Features Importances**"
      ]
    },
    {
      "cell_type": "code",
      "execution_count": null,
      "metadata": {
        "execution": {
          "iopub.execute_input": "2021-03-26T02:19:23.352227Z",
          "iopub.status.busy": "2021-03-26T02:19:23.351337Z",
          "iopub.status.idle": "2021-03-26T02:19:23.585041Z",
          "shell.execute_reply": "2021-03-26T02:19:23.585577Z"
        },
        "papermill": {
          "duration": 0.293169,
          "end_time": "2021-03-26T02:19:23.585833",
          "exception": false,
          "start_time": "2021-03-26T02:19:23.292664",
          "status": "completed"
        },
        "tags": [],
        "colab": {
          "base_uri": "https://localhost:8080/",
          "height": 258
        },
        "id": "T3yijrnUzfIb",
        "outputId": "e8b9d1b3-bb2c-4d2e-eda9-b1951aae593e"
      },
      "outputs": [
        {
          "output_type": "execute_result",
          "data": {
            "text/plain": [
              "Text(0.5, 1.0, 'feature importance score')"
            ]
          },
          "metadata": {},
          "execution_count": 88
        },
        {
          "output_type": "display_data",
          "data": {
            "text/plain": [
              "<Figure size 216x216 with 1 Axes>"
            ],
            "image/png": "[encoded data removed]"
          },
          "metadata": {
            "needs_background": "light"
          }
        }
      ],
      "source": [
        "feat_importances = pd.Series(ab.feature_importances_, index=X.columns)\n",
        "ax = feat_importances.nlargest(10).plot(kind='barh')\n",
        "ax.invert_yaxis()\n",
        "plt.xlabel('score')\n",
        "plt.ylabel('feature')\n",
        "plt.title('feature importance score')"
      ]
    },
    {
      "cell_type": "markdown",
      "metadata": {
        "papermill": {
          "duration": 0.048624,
          "end_time": "2021-03-26T02:19:23.685058",
          "exception": false,
          "start_time": "2021-03-26T02:19:23.636434",
          "status": "completed"
        },
        "tags": [],
        "id": "OLaLiXz9zfIb"
      },
      "source": [
        "# **Business Simulation**"
      ]
    },
    {
      "cell_type": "code",
      "execution_count": null,
      "metadata": {
        "execution": {
          "iopub.execute_input": "2021-03-26T02:19:23.808055Z",
          "iopub.status.busy": "2021-03-26T02:19:23.795429Z",
          "iopub.status.idle": "2021-03-26T02:19:23.825086Z",
          "shell.execute_reply": "2021-03-26T02:19:23.824408Z"
        },
        "papermill": {
          "duration": 0.091062,
          "end_time": "2021-03-26T02:19:23.825241",
          "exception": false,
          "start_time": "2021-03-26T02:19:23.734179",
          "status": "completed"
        },
        "tags": [],
        "colab": {
          "base_uri": "https://localhost:8080/",
          "height": 300
        },
        "id": "XDhD8w8RzfIb",
        "outputId": "63f08ca4-dab7-4702-d2c1-beff7e643288"
      },
      "outputs": [
        {
          "output_type": "execute_result",
          "data": {
            "text/plain": [
              "   norm_relationships  norm_age_first_funding_year  norm_funding_total_usd  \\\n",
              "0            0.111111                     0.091465                0.005261   \n",
              "1            0.412698                     0.038039                0.009647   \n",
              "2            0.031746                     0.360236                0.007489   \n",
              "3            0.015873                     0.082458                0.000524   \n",
              "4            0.111111                     0.005257                0.007367   \n",
              "\n",
              "   age_last_funding_year  age_first_milestone_year  age_last_milestone_year  \\\n",
              "0                 4.3863                    1.5836                   4.1918   \n",
              "1                 3.9370                    3.4822                   7.6658   \n",
              "2                10.6658                    0.4137                   0.4137   \n",
              "3                 1.8055                    0.0000                   0.0000   \n",
              "4                 1.1507                    0.0000                   0.0000   \n",
              "\n",
              "   funding_rounds  milestones   age  is_CA  ...  has_angel  has_roundA  \\\n",
              "0               4           2   9.0      0  ...          1           1   \n",
              "1               4           5   9.0      1  ...          0           1   \n",
              "2               3           1  12.0      0  ...          0           0   \n",
              "3               1           0   2.0      0  ...          0           1   \n",
              "4               3           0  14.0      0  ...          0           1   \n",
              "\n",
              "   has_roundB  has_roundC  has_roundD  avg_participants  is_top500  \\\n",
              "0           1           0           0            2.0000          1   \n",
              "1           1           1           1            2.7500          1   \n",
              "2           1           0           0            3.6667          1   \n",
              "3           0           0           0            1.0000          1   \n",
              "4           1           1           0            2.6667          1   \n",
              "\n",
              "   funding_total_usd  y_predicted  y_test  \n",
              "0           30000000            1       0  \n",
              "1           55000000            1       1  \n",
              "2           42700000            0       0  \n",
              "3            3000000            0       0  \n",
              "4           42000000            1       1  \n",
              "\n",
              "[5 rows x 35 columns]"
            ],
            "text/html": [
              "\n",
              "  <div id=\"df-3292143e-2ec4-44e7-a232-cc675423a661\">\n",
              "    <div class=\"colab-df-container\">\n",
              "      <div>\n",
              "<style scoped>\n",
              "    .dataframe tbody tr th:only-of-type {\n",
              "        vertical-align: middle;\n",
              "    }\n",
              "\n",
              "    .dataframe tbody tr th {\n",
              "        vertical-align: top;\n",
              "    }\n",
              "\n",
              "    .dataframe thead th {\n",
              "        text-align: right;\n",
              "    }\n",
              "</style>\n",
              "<table border=\"1\" class=\"dataframe\">\n",
              "  <thead>\n",
              "    <tr style=\"text-align: right;\">\n",
              "      <th></th>\n",
              "      <th>norm_relationships</th>\n",
              "      <th>norm_age_first_funding_year</th>\n",
              "      <th>norm_funding_total_usd</th>\n",
              "      <th>age_last_funding_year</th>\n",
              "      <th>age_first_milestone_year</th>\n",
              "      <th>age_last_milestone_year</th>\n",
              "      <th>funding_rounds</th>\n",
              "      <th>milestones</th>\n",
              "      <th>age</th>\n",
              "      <th>is_CA</th>\n",
              "      <th>...</th>\n",
              "      <th>has_angel</th>\n",
              "      <th>has_roundA</th>\n",
              "      <th>has_roundB</th>\n",
              "      <th>has_roundC</th>\n",
              "      <th>has_roundD</th>\n",
              "      <th>avg_participants</th>\n",
              "      <th>is_top500</th>\n",
              "      <th>funding_total_usd</th>\n",
              "      <th>y_predicted</th>\n",
              "      <th>y_test</th>\n",
              "    </tr>\n",
              "  </thead>\n",
              "  <tbody>\n",
              "    <tr>\n",
              "      <th>0</th>\n",
              "      <td>0.111111</td>\n",
              "      <td>0.091465</td>\n",
              "      <td>0.005261</td>\n",
              "      <td>4.3863</td>\n",
              "      <td>1.5836</td>\n",
              "      <td>4.1918</td>\n",
              "      <td>4</td>\n",
              "      <td>2</td>\n",
              "      <td>9.0</td>\n",
              "      <td>0</td>\n",
              "      <td>...</td>\n",
              "      <td>1</td>\n",
              "      <td>1</td>\n",
              "      <td>1</td>\n",
              "      <td>0</td>\n",
              "      <td>0</td>\n",
              "      <td>2.0000</td>\n",
              "      <td>1</td>\n",
              "      <td>30000000</td>\n",
              "      <td>1</td>\n",
              "      <td>0</td>\n",
              "    </tr>\n",
              "    <tr>\n",
              "      <th>1</th>\n",
              "      <td>0.412698</td>\n",
              "      <td>0.038039</td>\n",
              "      <td>0.009647</td>\n",
              "      <td>3.9370</td>\n",
              "      <td>3.4822</td>\n",
              "      <td>7.6658</td>\n",
              "      <td>4</td>\n",
              "      <td>5</td>\n",
              "      <td>9.0</td>\n",
              "      <td>1</td>\n",
              "      <td>...</td>\n",
              "      <td>0</td>\n",
              "      <td>1</td>\n",
              "      <td>1</td>\n",
              "      <td>1</td>\n",
              "      <td>1</td>\n",
              "      <td>2.7500</td>\n",
              "      <td>1</td>\n",
              "      <td>55000000</td>\n",
              "      <td>1</td>\n",
              "      <td>1</td>\n",
              "    </tr>\n",
              "    <tr>\n",
              "      <th>2</th>\n",
              "      <td>0.031746</td>\n",
              "      <td>0.360236</td>\n",
              "      <td>0.007489</td>\n",
              "      <td>10.6658</td>\n",
              "      <td>0.4137</td>\n",
              "      <td>0.4137</td>\n",
              "      <td>3</td>\n",
              "      <td>1</td>\n",
              "      <td>12.0</td>\n",
              "      <td>0</td>\n",
              "      <td>...</td>\n",
              "      <td>0</td>\n",
              "      <td>0</td>\n",
              "      <td>1</td>\n",
              "      <td>0</td>\n",
              "      <td>0</td>\n",
              "      <td>3.6667</td>\n",
              "      <td>1</td>\n",
              "      <td>42700000</td>\n",
              "      <td>0</td>\n",
              "      <td>0</td>\n",
              "    </tr>\n",
              "    <tr>\n",
              "      <th>3</th>\n",
              "      <td>0.015873</td>\n",
              "      <td>0.082458</td>\n",
              "      <td>0.000524</td>\n",
              "      <td>1.8055</td>\n",
              "      <td>0.0000</td>\n",
              "      <td>0.0000</td>\n",
              "      <td>1</td>\n",
              "      <td>0</td>\n",
              "      <td>2.0</td>\n",
              "      <td>0</td>\n",
              "      <td>...</td>\n",
              "      <td>0</td>\n",
              "      <td>1</td>\n",
              "      <td>0</td>\n",
              "      <td>0</td>\n",
              "      <td>0</td>\n",
              "      <td>1.0000</td>\n",
              "      <td>1</td>\n",
              "      <td>3000000</td>\n",
              "      <td>0</td>\n",
              "      <td>0</td>\n",
              "    </tr>\n",
              "    <tr>\n",
              "      <th>4</th>\n",
              "      <td>0.111111</td>\n",
              "      <td>0.005257</td>\n",
              "      <td>0.007367</td>\n",
              "      <td>1.1507</td>\n",
              "      <td>0.0000</td>\n",
              "      <td>0.0000</td>\n",
              "      <td>3</td>\n",
              "      <td>0</td>\n",
              "      <td>14.0</td>\n",
              "      <td>0</td>\n",
              "      <td>...</td>\n",
              "      <td>0</td>\n",
              "      <td>1</td>\n",
              "      <td>1</td>\n",
              "      <td>1</td>\n",
              "      <td>0</td>\n",
              "      <td>2.6667</td>\n",
              "      <td>1</td>\n",
              "      <td>42000000</td>\n",
              "      <td>1</td>\n",
              "      <td>1</td>\n",
              "    </tr>\n",
              "  </tbody>\n",
              "</table>\n",
              "<p>5 rows × 35 columns</p>\n",
              "</div>\n",
              "      <button class=\"colab-df-convert\" onclick=\"convertToInteractive('df-3292143e-2ec4-44e7-a232-cc675423a661')\"\n",
              "              title=\"Convert this dataframe to an interactive table.\"\n",
              "              style=\"display:none;\">\n",
              "        \n",
              "  <svg xmlns=\"http://www.w3.org/2000/svg\" height=\"24px\"viewBox=\"0 0 24 24\"\n",
              "       width=\"24px\">\n",
              "    <path d=\"M0 0h24v24H0V0z\" fill=\"none\"/>\n",
              "    <path d=\"M18.56 5.44l.94 2.06.94-2.06 2.06-.94-2.06-.94-.94-2.06-.94 2.06-2.06.94zm-11 1L8.5 8.5l.94-2.06 2.06-.94-2.06-.94L8.5 2.5l-.94 2.06-2.06.94zm10 10l.94 2.06.94-2.06 2.06-.94-2.06-.94-.94-2.06-.94 2.06-2.06.94z\"/><path d=\"M17.41 7.96l-1.37-1.37c-.4-.4-.92-.59-1.43-.59-.52 0-1.04.2-1.43.59L10.3 9.45l-7.72 7.72c-.78.78-.78 2.05 0 2.83L4 21.41c.39.39.9.59 1.41.59.51 0 1.02-.2 1.41-.59l7.78-7.78 2.81-2.81c.8-.78.8-2.07 0-2.86zM5.41 20L4 18.59l7.72-7.72 1.47 1.35L5.41 20z\"/>\n",
              "  </svg>\n",
              "      </button>\n",
              "      \n",
              "  <style>\n",
              "    .colab-df-container {\n",
              "      display:flex;\n",
              "      flex-wrap:wrap;\n",
              "      gap: 12px;\n",
              "    }\n",
              "\n",
              "    .colab-df-convert {\n",
              "      background-color: #E8F0FE;\n",
              "      border: none;\n",
              "      border-radius: 50%;\n",
              "      cursor: pointer;\n",
              "      display: none;\n",
              "      fill: #1967D2;\n",
              "      height: 32px;\n",
              "      padding: 0 0 0 0;\n",
              "      width: 32px;\n",
              "    }\n",
              "\n",
              "    .colab-df-convert:hover {\n",
              "      background-color: #E2EBFA;\n",
              "      box-shadow: 0px 1px 2px rgba(60, 64, 67, 0.3), 0px 1px 3px 1px rgba(60, 64, 67, 0.15);\n",
              "      fill: #174EA6;\n",
              "    }\n",
              "\n",
              "    [theme=dark] .colab-df-convert {\n",
              "      background-color: #3B4455;\n",
              "      fill: #D2E3FC;\n",
              "    }\n",
              "\n",
              "    [theme=dark] .colab-df-convert:hover {\n",
              "      background-color: #434B5C;\n",
              "      box-shadow: 0px 1px 3px 1px rgba(0, 0, 0, 0.15);\n",
              "      filter: drop-shadow(0px 1px 2px rgba(0, 0, 0, 0.3));\n",
              "      fill: #FFFFFF;\n",
              "    }\n",
              "  </style>\n",
              "\n",
              "      <script>\n",
              "        const buttonEl =\n",
              "          document.querySelector('#df-3292143e-2ec4-44e7-a232-cc675423a661 button.colab-df-convert');\n",
              "        buttonEl.style.display =\n",
              "          google.colab.kernel.accessAllowed ? 'block' : 'none';\n",
              "\n",
              "        async function convertToInteractive(key) {\n",
              "          const element = document.querySelector('#df-3292143e-2ec4-44e7-a232-cc675423a661');\n",
              "          const dataTable =\n",
              "            await google.colab.kernel.invokeFunction('convertToInteractive',\n",
              "                                                     [key], {});\n",
              "          if (!dataTable) return;\n",
              "\n",
              "          const docLinkHtml = 'Like what you see? Visit the ' +\n",
              "            '<a target=\"_blank\" href=https://colab.research.google.com/notebooks/data_table.ipynb>data table notebook</a>'\n",
              "            + ' to learn more about interactive tables.';\n",
              "          element.innerHTML = '';\n",
              "          dataTable['output_type'] = 'display_data';\n",
              "          await google.colab.output.renderOutput(dataTable, element);\n",
              "          const docLink = document.createElement('div');\n",
              "          docLink.innerHTML = docLinkHtml;\n",
              "          element.appendChild(docLink);\n",
              "        }\n",
              "      </script>\n",
              "    </div>\n",
              "  </div>\n",
              "  "
            ]
          },
          "metadata": {},
          "execution_count": 89
        }
      ],
      "source": [
        "y_predicted=pd.DataFrame(y_predicted)\n",
        "y_test=pd.DataFrame(y_test)\n",
        "\n",
        "y_test=y_test.reset_index()\n",
        "y_test=y_test.drop(['index'],axis=1)\n",
        "\n",
        "X_test['funding_total_usd']=data['funding_total_usd']\n",
        "X_test=X_test.reset_index()\n",
        "X_test=X_test.drop(['index'],axis=1)\n",
        "\n",
        "X_test['y_predicted']=y_predicted\n",
        "X_test['y_test']=y_test\n",
        "X_test.head()"
      ]
    },
    {
      "cell_type": "markdown",
      "metadata": {
        "papermill": {
          "duration": 0.049675,
          "end_time": "2021-03-26T02:19:23.923762",
          "exception": false,
          "start_time": "2021-03-26T02:19:23.874087",
          "status": "completed"
        },
        "tags": [],
        "id": "DaV0VgUVzfIb"
      },
      "source": [
        "Total Fail in start up:"
      ]
    },
    {
      "cell_type": "code",
      "execution_count": null,
      "metadata": {
        "execution": {
          "iopub.execute_input": "2021-03-26T02:19:24.032943Z",
          "iopub.status.busy": "2021-03-26T02:19:24.032192Z",
          "iopub.status.idle": "2021-03-26T02:19:24.037568Z",
          "shell.execute_reply": "2021-03-26T02:19:24.036833Z"
        },
        "papermill": {
          "duration": 0.064935,
          "end_time": "2021-03-26T02:19:24.037715",
          "exception": false,
          "start_time": "2021-03-26T02:19:23.972780",
          "status": "completed"
        },
        "tags": [],
        "colab": {
          "base_uri": "https://localhost:8080/"
        },
        "id": "5IKfC0WdzfIb",
        "outputId": "f63bcad0-fd5e-4d49-94fe-e703a91dd207"
      },
      "outputs": [
        {
          "output_type": "execute_result",
          "data": {
            "text/plain": [
              "labels    97\n",
              "dtype: int64"
            ]
          },
          "metadata": {},
          "execution_count": 90
        }
      ],
      "source": [
        "y_test[y_test['labels']==0].count()"
      ]
    },
    {
      "cell_type": "markdown",
      "metadata": {
        "papermill": {
          "duration": 0.049013,
          "end_time": "2021-03-26T02:19:24.136147",
          "exception": false,
          "start_time": "2021-03-26T02:19:24.087134",
          "status": "completed"
        },
        "tags": [],
        "id": "9i8ILBJlzfIb"
      },
      "source": [
        "Predict True Fail Startup (True Negatif):"
      ]
    },
    {
      "cell_type": "code",
      "execution_count": null,
      "metadata": {
        "execution": {
          "iopub.execute_input": "2021-03-26T02:19:24.246378Z",
          "iopub.status.busy": "2021-03-26T02:19:24.244909Z",
          "iopub.status.idle": "2021-03-26T02:19:24.251129Z",
          "shell.execute_reply": "2021-03-26T02:19:24.250468Z"
        },
        "papermill": {
          "duration": 0.064494,
          "end_time": "2021-03-26T02:19:24.251289",
          "exception": false,
          "start_time": "2021-03-26T02:19:24.186795",
          "status": "completed"
        },
        "tags": [],
        "colab": {
          "base_uri": "https://localhost:8080/"
        },
        "id": "menjkdrMzfIb",
        "outputId": "7dbfa2c2-f210-420b-9a5a-51f6872d6bc9"
      },
      "outputs": [
        {
          "output_type": "execute_result",
          "data": {
            "text/plain": [
              "78"
            ]
          },
          "metadata": {},
          "execution_count": 91
        }
      ],
      "source": [
        "X_test[(X_test['y_test']==0)&(X_test['y_predicted']==0)]['y_predicted'].count()"
      ]
    },
    {
      "cell_type": "markdown",
      "metadata": {
        "papermill": {
          "duration": 0.050893,
          "end_time": "2021-03-26T02:19:24.353286",
          "exception": false,
          "start_time": "2021-03-26T02:19:24.302393",
          "status": "completed"
        },
        "tags": [],
        "id": "mJ1rk9WBzfIb"
      },
      "source": [
        "Total Success in startup:"
      ]
    },
    {
      "cell_type": "code",
      "execution_count": null,
      "metadata": {
        "execution": {
          "iopub.execute_input": "2021-03-26T02:19:24.464843Z",
          "iopub.status.busy": "2021-03-26T02:19:24.463947Z",
          "iopub.status.idle": "2021-03-26T02:19:24.469848Z",
          "shell.execute_reply": "2021-03-26T02:19:24.469225Z"
        },
        "papermill": {
          "duration": 0.065821,
          "end_time": "2021-03-26T02:19:24.470015",
          "exception": false,
          "start_time": "2021-03-26T02:19:24.404194",
          "status": "completed"
        },
        "tags": [],
        "colab": {
          "base_uri": "https://localhost:8080/"
        },
        "id": "j_hYeqFDzfIb",
        "outputId": "74aa387e-9f0c-4563-b7a8-9954896883d5"
      },
      "outputs": [
        {
          "output_type": "execute_result",
          "data": {
            "text/plain": [
              "labels    155\n",
              "dtype: int64"
            ]
          },
          "metadata": {},
          "execution_count": 92
        }
      ],
      "source": [
        "y_test[y_test['labels']==1].count()"
      ]
    },
    {
      "cell_type": "markdown",
      "metadata": {
        "papermill": {
          "duration": 0.050854,
          "end_time": "2021-03-26T02:19:24.571269",
          "exception": false,
          "start_time": "2021-03-26T02:19:24.520415",
          "status": "completed"
        },
        "tags": [],
        "id": "u7mTUyRPzfIb"
      },
      "source": [
        "Predict True Success Startup(True Positif):"
      ]
    },
    {
      "cell_type": "code",
      "execution_count": null,
      "metadata": {
        "execution": {
          "iopub.execute_input": "2021-03-26T02:19:24.682364Z",
          "iopub.status.busy": "2021-03-26T02:19:24.681076Z",
          "iopub.status.idle": "2021-03-26T02:19:24.686803Z",
          "shell.execute_reply": "2021-03-26T02:19:24.686113Z"
        },
        "papermill": {
          "duration": 0.065375,
          "end_time": "2021-03-26T02:19:24.686951",
          "exception": false,
          "start_time": "2021-03-26T02:19:24.621576",
          "status": "completed"
        },
        "tags": [],
        "colab": {
          "base_uri": "https://localhost:8080/"
        },
        "id": "anrLdTx5zfIc",
        "outputId": "c27b5581-cef7-4cba-8415-bea132b0ec14"
      },
      "outputs": [
        {
          "output_type": "execute_result",
          "data": {
            "text/plain": [
              "134"
            ]
          },
          "metadata": {},
          "execution_count": 93
        }
      ],
      "source": [
        "X_test[(X_test['y_test']==1)&(X_test['y_predicted']==1)]['y_predicted'].count()"
      ]
    },
    {
      "cell_type": "markdown",
      "metadata": {
        "papermill": {
          "duration": 0.050231,
          "end_time": "2021-03-26T02:19:24.787677",
          "exception": false,
          "start_time": "2021-03-26T02:19:24.737446",
          "status": "completed"
        },
        "tags": [],
        "id": "uDaY1_WyzfIc"
      },
      "source": [
        "**Total Invest without ML:**"
      ]
    },
    {
      "cell_type": "code",
      "execution_count": null,
      "metadata": {
        "execution": {
          "iopub.execute_input": "2021-03-26T02:19:24.897173Z",
          "iopub.status.busy": "2021-03-26T02:19:24.896389Z",
          "iopub.status.idle": "2021-03-26T02:19:24.901880Z",
          "shell.execute_reply": "2021-03-26T02:19:24.901270Z"
        },
        "papermill": {
          "duration": 0.062654,
          "end_time": "2021-03-26T02:19:24.902055",
          "exception": false,
          "start_time": "2021-03-26T02:19:24.839401",
          "status": "completed"
        },
        "tags": [],
        "colab": {
          "base_uri": "https://localhost:8080/"
        },
        "id": "FdWBbm56zfIc",
        "outputId": "2b0f0658-bc5a-4bb1-ac3b-e703e19d2033"
      },
      "outputs": [
        {
          "output_type": "execute_result",
          "data": {
            "text/plain": [
              "5095709923"
            ]
          },
          "metadata": {},
          "execution_count": 94
        }
      ],
      "source": [
        "X_test['funding_total_usd'].sum()"
      ]
    },
    {
      "cell_type": "markdown",
      "metadata": {
        "papermill": {
          "duration": 0.052541,
          "end_time": "2021-03-26T02:19:25.007368",
          "exception": false,
          "start_time": "2021-03-26T02:19:24.954827",
          "status": "completed"
        },
        "tags": [],
        "id": "q7XqaBhbzfIc"
      },
      "source": [
        "If we Invest without ML AdaBoost it will cost 5 Billion USD"
      ]
    },
    {
      "cell_type": "markdown",
      "metadata": {
        "papermill": {
          "duration": 0.053232,
          "end_time": "2021-03-26T02:19:25.113956",
          "exception": false,
          "start_time": "2021-03-26T02:19:25.060724",
          "status": "completed"
        },
        "tags": [],
        "id": "fs-GjLzNzfIc"
      },
      "source": [
        "**Total Invest with ML:**"
      ]
    },
    {
      "cell_type": "code",
      "execution_count": null,
      "metadata": {
        "execution": {
          "iopub.execute_input": "2021-03-26T02:19:25.225930Z",
          "iopub.status.busy": "2021-03-26T02:19:25.225187Z",
          "iopub.status.idle": "2021-03-26T02:19:25.229064Z",
          "shell.execute_reply": "2021-03-26T02:19:25.228412Z"
        },
        "papermill": {
          "duration": 0.063126,
          "end_time": "2021-03-26T02:19:25.229223",
          "exception": false,
          "start_time": "2021-03-26T02:19:25.166097",
          "status": "completed"
        },
        "tags": [],
        "colab": {
          "base_uri": "https://localhost:8080/"
        },
        "id": "LOXEFut9zfIc",
        "outputId": "0e0b6349-755b-40af-9c78-38d63849e427"
      },
      "outputs": [
        {
          "output_type": "execute_result",
          "data": {
            "text/plain": [
              "3355072615"
            ]
          },
          "metadata": {},
          "execution_count": 95
        }
      ],
      "source": [
        "X_test[(X_test['y_predicted']==1)]['funding_total_usd'].sum()"
      ]
    },
    {
      "cell_type": "markdown",
      "metadata": {
        "papermill": {
          "duration": 0.052654,
          "end_time": "2021-03-26T02:19:25.334255",
          "exception": false,
          "start_time": "2021-03-26T02:19:25.281601",
          "status": "completed"
        },
        "tags": [],
        "id": "Ur2av1zMzfIc"
      },
      "source": [
        "If we invest with AdaBoost, it will cost 3.3 Billion USD. It's 34% effieciency invesment"
      ]
    },
    {
      "cell_type": "markdown",
      "metadata": {
        "papermill": {
          "duration": 0.05275,
          "end_time": "2021-03-26T02:19:25.441543",
          "exception": false,
          "start_time": "2021-03-26T02:19:25.388793",
          "status": "completed"
        },
        "tags": [],
        "id": "mA5V2dyfzfIc"
      },
      "source": [
        "**Potential Loss without ML:**"
      ]
    },
    {
      "cell_type": "code",
      "execution_count": null,
      "metadata": {
        "execution": {
          "iopub.execute_input": "2021-03-26T02:19:25.554273Z",
          "iopub.status.busy": "2021-03-26T02:19:25.553439Z",
          "iopub.status.idle": "2021-03-26T02:19:25.557452Z",
          "shell.execute_reply": "2021-03-26T02:19:25.556778Z"
        },
        "papermill": {
          "duration": 0.063585,
          "end_time": "2021-03-26T02:19:25.557658",
          "exception": false,
          "start_time": "2021-03-26T02:19:25.494073",
          "status": "completed"
        },
        "tags": [],
        "colab": {
          "base_uri": "https://localhost:8080/"
        },
        "id": "tLwKMhTDzfIc",
        "outputId": "a4075bda-1800-4936-ce63-5394205f3b00"
      },
      "outputs": [
        {
          "output_type": "execute_result",
          "data": {
            "text/plain": [
              "1818320216"
            ]
          },
          "metadata": {},
          "execution_count": 96
        }
      ],
      "source": [
        "X_test[(X_test['y_test']==0)]['funding_total_usd'].sum()"
      ]
    },
    {
      "cell_type": "markdown",
      "metadata": {
        "papermill": {
          "duration": 0.054059,
          "end_time": "2021-03-26T02:19:25.665881",
          "exception": false,
          "start_time": "2021-03-26T02:19:25.611822",
          "status": "completed"
        },
        "tags": [],
        "id": "KSAOmtHOzfIc"
      },
      "source": [
        "Without AdaBoost, potential loss investment is 1.8 Billion USD"
      ]
    },
    {
      "cell_type": "markdown",
      "metadata": {
        "papermill": {
          "duration": 0.052601,
          "end_time": "2021-03-26T02:19:25.773419",
          "exception": false,
          "start_time": "2021-03-26T02:19:25.720818",
          "status": "completed"
        },
        "tags": [],
        "id": "anEeiuKazfId"
      },
      "source": [
        "**Potential Loss With ML:**"
      ]
    },
    {
      "cell_type": "code",
      "execution_count": null,
      "metadata": {
        "execution": {
          "iopub.execute_input": "2021-03-26T02:19:25.888861Z",
          "iopub.status.busy": "2021-03-26T02:19:25.888110Z",
          "iopub.status.idle": "2021-03-26T02:19:25.893363Z",
          "shell.execute_reply": "2021-03-26T02:19:25.892692Z"
        },
        "papermill": {
          "duration": 0.066237,
          "end_time": "2021-03-26T02:19:25.893552",
          "exception": false,
          "start_time": "2021-03-26T02:19:25.827315",
          "status": "completed"
        },
        "tags": [],
        "colab": {
          "base_uri": "https://localhost:8080/"
        },
        "id": "hccNpwc0zfId",
        "outputId": "693107e1-15e2-4cfc-dc97-36c7ff1cde4d"
      },
      "outputs": [
        {
          "output_type": "execute_result",
          "data": {
            "text/plain": [
              "317934826"
            ]
          },
          "metadata": {},
          "execution_count": 97
        }
      ],
      "source": [
        "X_test[(X_test['y_test']==0)&(X_test['y_predicted']==1)]['funding_total_usd'].sum()"
      ]
    },
    {
      "cell_type": "markdown",
      "metadata": {
        "papermill": {
          "duration": 0.053257,
          "end_time": "2021-03-26T02:19:26.001230",
          "exception": false,
          "start_time": "2021-03-26T02:19:25.947973",
          "status": "completed"
        },
        "tags": [],
        "id": "ojgqeq_XzfId"
      },
      "source": [
        "With AdaBoost, potential loss is reducting until 82%. It just cost 300 Million USD"
      ]
    },
    {
      "cell_type": "markdown",
      "metadata": {
        "papermill": {
          "duration": 0.05396,
          "end_time": "2021-03-26T02:19:26.109356",
          "exception": false,
          "start_time": "2021-03-26T02:19:26.055396",
          "status": "completed"
        },
        "tags": [],
        "id": "I9I8tknrzfId"
      },
      "source": [
        "**Saving Fund Investment with predict ML:**"
      ]
    },
    {
      "cell_type": "code",
      "execution_count": null,
      "metadata": {
        "execution": {
          "iopub.execute_input": "2021-03-26T02:19:26.227052Z",
          "iopub.status.busy": "2021-03-26T02:19:26.226282Z",
          "iopub.status.idle": "2021-03-26T02:19:26.229739Z",
          "shell.execute_reply": "2021-03-26T02:19:26.229090Z"
        },
        "papermill": {
          "duration": 0.066607,
          "end_time": "2021-03-26T02:19:26.229904",
          "exception": false,
          "start_time": "2021-03-26T02:19:26.163297",
          "status": "completed"
        },
        "tags": [],
        "colab": {
          "base_uri": "https://localhost:8080/"
        },
        "id": "tTK19_J-zfId",
        "outputId": "788e5a6a-5ada-4bbf-c271-ee71c3621d87"
      },
      "outputs": [
        {
          "output_type": "execute_result",
          "data": {
            "text/plain": [
              "1500385390"
            ]
          },
          "metadata": {},
          "execution_count": 98
        }
      ],
      "source": [
        "X_test[(X_test['y_test']==0)&(X_test['y_predicted']==0)]['funding_total_usd'].sum()"
      ]
    },
    {
      "cell_type": "markdown",
      "metadata": {
        "papermill": {
          "duration": 0.058542,
          "end_time": "2021-03-26T02:19:26.343321",
          "exception": false,
          "start_time": "2021-03-26T02:19:26.284779",
          "status": "completed"
        },
        "tags": [],
        "id": "tHTv0ikrzfId"
      },
      "source": [
        "With ML AdaBoost, we are saving 1.5 Billion USD"
      ]
    }
  ],
  "metadata": {
    "kernelspec": {
      "display_name": "Python 3",
      "language": "python",
      "name": "python3"
    },
    "language_info": {
      "codemirror_mode": {
        "name": "ipython",
        "version": 3
      },
      "file_extension": ".py",
      "mimetype": "text/x-python",
      "name": "python",
      "nbconvert_exporter": "python",
      "pygments_lexer": "ipython3",
      "version": "3.7.9"
    },
    "papermill": {
      "default_parameters": {},
      "duration": 17.616699,
      "end_time": "2021-03-26T02:19:27.212851",
      "environment_variables": {},
      "exception": null,
      "input_path": "__notebook__.ipynb",
      "output_path": "__notebook__.ipynb",
      "parameters": {},
      "start_time": "2021-03-26T02:19:09.596152",
      "version": "2.2.2"
    },
    "colab": {
      "provenance": [],
      "collapsed_sections": [
        "9yq1aG5lzfIY",
        "4T1PtWXizfIa",
        "ENDRh1-w4azd",
        "6R6rJpCW6Dop",
        "aLgyqS-T6SJK",
        "yDs_ZIa-676C",
        "fGi4gbx6zfIa",
        "ce09Enn3zfIb",
        "OLaLiXz9zfIb"
      ],
      "include_colab_link": true
    }
  },
  "nbformat": 4,
  "nbformat_minor": 0
}